{
  "nbformat": 4,
  "nbformat_minor": 0,
  "metadata": {
    "colab": {
      "provenance": []
    },
    "kernelspec": {
      "name": "python3",
      "display_name": "Python 3"
    },
    "language_info": {
      "name": "python"
    }
  },
  "cells": [
    {
      "cell_type": "markdown",
      "source": [
        "#Configurações da Plataforma"
      ],
      "metadata": {
        "id": "-gTP839mWIPx"
      }
    },
    {
      "cell_type": "code",
      "source": [
        "import sys\n",
        "import platform\n",
        "import psutil\n",
        "import subprocess\n",
        "\n",
        "\n",
        "print(\"CPU: Intel(R) Xeon(R) CPU @ 2.20GHz\\n\"\n",
        "      f\"RAM: 12.68 GB\\n\"\n",
        "      f\"Disco: 107.72 GB\\n\"\n",
        "      f\"Versão do compilador: {sys.version}\\n\"\n",
        "      f\"Sistema operacional: {sys.platform}\")"
      ],
      "metadata": {
        "colab": {
          "base_uri": "https://localhost:8080/"
        },
        "id": "ZNPYMNtaGXfb",
        "outputId": "44660ba5-5460-4d44-cf0c-db956c15e0af"
      },
      "execution_count": 263,
      "outputs": [
        {
          "output_type": "stream",
          "name": "stdout",
          "text": [
            "CPU: Intel(R) Xeon(R) CPU @ 2.20GHz\n",
            "RAM: 12.68 GB\n",
            "Disco: 107.72 GB\n",
            "Versão do compilador: 3.8.16 (default, Dec  7 2022, 01:12:13) \n",
            "[GCC 7.5.0]\n",
            "Sistema operacional: linux\n"
          ]
        }
      ]
    },
    {
      "cell_type": "markdown",
      "source": [
        "#Implementação dos Algoritmos"
      ],
      "metadata": {
        "id": "bF50DyRTWOJp"
      }
    },
    {
      "cell_type": "code",
      "source": [
        "%%writefile main.cpp\n",
        "\n",
        "#include <iostream>\n",
        "#include <fstream>\n",
        "#include <string>\n",
        "#include <chrono>\n",
        "#include <vector>\n",
        "#include <bits/stdc++.h>\n",
        "using namespace std;\n",
        "\n",
        "int b[128];\n",
        "const int ALPHABET_SIZE = 256;\n",
        "static long MAXCHAR = 256;\n",
        "\n",
        "int bruteForce(string pattern, string text) {\n",
        "    for(int i = 0; i < text.length() - pattern.length() + 1; i++) {\n",
        "        int j = 0;\n",
        "        while (j < pattern.length() && text[i+j] == pattern[j]) {\n",
        "            j += 1;\n",
        "        }\n",
        "        if (j == pattern.length()) {\n",
        "            j = 0;\n",
        "            //cout<<\"FB Casou em \"<<i<<endl;\n",
        "        }\n",
        "    }\n",
        "}\n",
        "\n",
        "void shiftAnd(string text, string pattern){\n",
        "    vector<int> masks;\n",
        "    int state;\n",
        "    for(int i = 0; i < 256; i++){\n",
        "        masks.push_back(0);\n",
        "    }\n",
        "    \n",
        "    for(int i = 0; i < pattern.size(); i++){\n",
        "        masks[__toascii(pattern[i])] |= 1 << i;\n",
        "    }\n",
        "    \n",
        "    state = 0;\n",
        "    \n",
        "    for(int i = 0; i < text.size(); i++){\n",
        "        state = ((state << 1) | 1) & masks[__toascii(text[i])];\n",
        "        if(state & (1 << (pattern.size()-1))){\n",
        "            //cout<<\"SE: Casou em \"<<i - pattern.size() + 2<<endl;\n",
        "            continue;\n",
        "        }\n",
        "    }\n",
        "}\n",
        "\n",
        "void BMH(string T,string P){\n",
        "    long n = T.length();\n",
        "    long m = P.length();\n",
        "\n",
        "    long i, j, k, d[MAXCHAR + 1];\n",
        "    for(j=0;j<=MAXCHAR; j++)d[j] = m;\n",
        "    for(j=1;j<m;j++)d[P[j-1]] = m-j;\n",
        "    i=m;\n",
        "    while(i<=n){\n",
        "        k=i;\n",
        "        j=m;\n",
        "        while(T[k-1]==P[j-1] && j>0){\n",
        "            k--;j--;\n",
        "        }\n",
        "        if(j==0) /*cout<<\"BMH Casou em \"<<k+1<<endl*/; \n",
        "        i+=d[T[i-1]];\n",
        "    }\n",
        "}\n",
        "\n",
        "void BMHS(string T, string P){\n",
        "    long n = T.length();\n",
        "    long m = P.length();\n",
        "\n",
        "    long i, j, k, d[MAXCHAR + 1];\n",
        "    for(j=0;j<=MAXCHAR;j++)d[j]=m+1;\n",
        "    for(j=1;j<=m;j++)d[P[j-1]]=m-j+1;\n",
        "    i=m;\n",
        "    while(i<=n){\n",
        "        k=i;\n",
        "        j=m;\n",
        "        while(T[k-1]==P[j-1] && j>0){k--;j--;}\n",
        "        if(j==0)\n",
        "        /*cout<<\"BMHS Casou em \"<<k+1<<endl*/;\n",
        "        i+=d[T[i]];\n",
        "    }\n",
        "}\n",
        "\n",
        "void shiftAndApprox(string T, string P, long k){\n",
        "    long n = T.length();\n",
        "    long m = P.length();\n",
        "\n",
        "    long Masc[MAXCHAR],i,j,Ri,Rant,Rnovo;\n",
        "    long R[2+1];\n",
        "    for(i=0;i<MAXCHAR;i++)Masc[i]=0;\n",
        "    for(i=1;i<=m;i++){Masc[P[i-1] + 127] |= 1 << (m-i);}\n",
        "    R[0] = 0; Ri = 1 << (m-1);\n",
        "    for(j=1;j<=k;j++)R[j]=(1 << (m-j)) | R[j-1];\n",
        "    for(i=0;i<n;i++){\n",
        "        Rant= R[0];\n",
        "        Rnovo = ((((unsigned long)Rant) >> 1) | Ri) & Masc[T[i] + 127];\n",
        "        R[0] = Rnovo;\n",
        "        for(j=1;j<=k;j++){\n",
        "            Rnovo=((((unsigned long)R[j]) >> 1) & Masc[T[i]+127]) | Rant |(((unsigned long)(Rant | Rnovo)) >> 1 );\n",
        "            Rant= R[j];R[j]= Rnovo | Ri;\n",
        "        }\n",
        "        if((Rnovo & 1) != 0) /*cout<<\"SAA \" << k <<\" Casou em \"<<i<<endl*/;\n",
        "    }\n",
        "}\n",
        "\n",
        "int main() {\n",
        "    // LENDO ARQUIVOS DE TEXTO\n",
        "    ifstream file(\"T_500.txt\");\n",
        "    string T500;\n",
        "    T500 = string((istreambuf_iterator<char>(file)), istreambuf_iterator<char>());\n",
        "    file.close();\n",
        "\n",
        "    ifstream file2(\"T_1000.txt\");\n",
        "    string T1000;\n",
        "    T1000 = string((istreambuf_iterator<char>(file2)), istreambuf_iterator<char>());\n",
        "    file2.close();\n",
        "\n",
        "    ifstream file3(\"T_1500.txt\");\n",
        "    string T1500;\n",
        "    T1500 = string((istreambuf_iterator<char>(file3)), istreambuf_iterator<char>());\n",
        "    file3.close();\n",
        "\n",
        "    ifstream file4(\"T_2000.txt\");\n",
        "    string T2000;\n",
        "    T2000 = string((istreambuf_iterator<char>(file4)), istreambuf_iterator<char>());\n",
        "    file4.close();\n",
        "\n",
        "    ifstream file5(\"T_5000.txt\");\n",
        "    string T5000;\n",
        "    T5000 = string((istreambuf_iterator<char>(file5)), istreambuf_iterator<char>());\n",
        "    file5.close();\n",
        "\n",
        "    // CRIA VETOR COM OS TEXTOS\n",
        "    string textos[5] = {T500, T1000, T1500, T2000, T5000};\n",
        "\n",
        "    vector<double> brutal_force, bmh, bmhs, shift_and, shift_and_aprox_k1, shift_and_aprox_k2;\n",
        "    for(int i = 0; i < 5; i++){\n",
        "      brutal_force.push_back(0);\n",
        "      bmh.push_back(0);\n",
        "      bmhs.push_back(0);\n",
        "      shift_and.push_back(0);\n",
        "      shift_and_aprox_k1.push_back(0);\n",
        "      shift_and_aprox_k2.push_back(0);\n",
        "    }\n",
        "\n",
        "    ofstream myfile(\"Output.csv\");\n",
        "    myfile << \"alg,T500,T1000,T1500,T2000,T5000\\n\";\n",
        "\n",
        "    std::chrono::time_point<std::chrono::system_clock> start, end;\n",
        "    std::chrono::duration<double> elapsed_seconds;\n",
        "    string P = \"dolor\";\n",
        "\n",
        "    for(int k = 0; k < 10; k++){\n",
        "        for(int i = 0; i < 5; i++){\n",
        "          start = std::chrono::system_clock::now();\n",
        "          bruteForce(P, textos[i]); ////////////////\n",
        "          end = std::chrono::system_clock::now();\n",
        "          elapsed_seconds = end - start;\n",
        "          std::time_t end_time = std::chrono::system_clock::to_time_t(end);\n",
        "          /*std::cout << \"finished computation at \" << std::ctime(&end_time)\n",
        "                    << \"elapsed time: \" << chrono::duration_cast<chrono::nanoseconds>(elapsed_seconds).count() << \"s\\n\";*/\n",
        "          brutal_force[i] += (chrono::duration_cast<chrono::nanoseconds>(elapsed_seconds).count());\n",
        "\n",
        "          start = std::chrono::system_clock::now();\n",
        "          BMH(textos[i], P); /////////////////////\n",
        "          end = std::chrono::system_clock::now();\n",
        "          elapsed_seconds = end - start;\n",
        "          end_time = std::chrono::system_clock::to_time_t(end);\n",
        "          bmh[i] += (chrono::duration_cast<chrono::nanoseconds>(elapsed_seconds).count());\n",
        "\n",
        "          start = std::chrono::system_clock::now();\n",
        "          BMHS(textos[i], P); /////////////////////\n",
        "          end = std::chrono::system_clock::now();\n",
        "          elapsed_seconds = end - start;\n",
        "          end_time = std::chrono::system_clock::to_time_t(end);\n",
        "          bmhs[i] += (chrono::duration_cast<chrono::nanoseconds>(elapsed_seconds).count());\n",
        "\n",
        "          start = std::chrono::system_clock::now();\n",
        "          shiftAnd(textos[i], P); /////////////////////\n",
        "          end = std::chrono::system_clock::now();\n",
        "          elapsed_seconds = end - start;\n",
        "          end_time = std::chrono::system_clock::to_time_t(end);\n",
        "          shift_and[i] += (chrono::duration_cast<chrono::nanoseconds>(elapsed_seconds).count());\n",
        "\n",
        "          start = std::chrono::system_clock::now();\n",
        "          shiftAndApprox(textos[i], P, 1); /////////////////////\n",
        "          end = std::chrono::system_clock::now();\n",
        "          elapsed_seconds = end - start;\n",
        "          end_time = std::chrono::system_clock::to_time_t(end);\n",
        "          shift_and_aprox_k1[i] += (chrono::duration_cast<chrono::nanoseconds>(elapsed_seconds).count());\n",
        "\n",
        "          start = std::chrono::system_clock::now();\n",
        "          shiftAndApprox(textos[i], P, 2); /////////////////////\n",
        "          end = std::chrono::system_clock::now();\n",
        "          elapsed_seconds = end - start;\n",
        "          end_time = std::chrono::system_clock::to_time_t(end);\n",
        "          shift_and_aprox_k2[i] += (chrono::duration_cast<chrono::nanoseconds>(elapsed_seconds).count());\n",
        "        }\n",
        "    }\n",
        "\n",
        "    for(int i = 0; i < 5; i++){\n",
        "      brutal_force[i] = brutal_force[i]/10;\n",
        "      bmh[i] = bmh[i]/10;\n",
        "      bmhs[i] = bmhs[i]/10;\n",
        "      shift_and[i] = shift_and[i]/10;\n",
        "      shift_and_aprox_k1[i] = shift_and_aprox_k1[i]/10;\n",
        "      shift_and_aprox_k2[i] = shift_and_aprox_k2[i]/10;\n",
        "    }\n",
        "\n",
        "    // ============================= FORÇA BRUTA ======================================  \n",
        "    myfile << \"Brute Force\";\n",
        "    for(int i = 0; i < 5; i++){\n",
        "      myfile << \",\" << brutal_force[i];\n",
        "      cout << brutal_force[i] << \" | \";\n",
        "    }\n",
        "    myfile << \"\\n\";\n",
        "\n",
        "    cout << '\\n';\n",
        "    \n",
        "    // ============================== BMH ====================================== \n",
        "    myfile << \"BMH\";\n",
        "    for(int i = 0; i < 5; i++){\n",
        "      myfile << \",\" << bmh[i];\n",
        "      cout << bmh[i] << \" | \";\n",
        "    }\n",
        "    myfile << \"\\n\";\n",
        "\n",
        "    cout << '\\n';\n",
        "    \n",
        "    // ============================== BMHS ====================================== \n",
        "    myfile << \"BMHS\";\n",
        "    for(int i = 0; i < 5; i++){\n",
        "      myfile << \",\" << bmhs[i];\n",
        "      cout << bmhs[i] << \" | \";\n",
        "    }\n",
        "    myfile << \"\\n\";\n",
        "\n",
        "    cout << '\\n';\n",
        "    \n",
        "    // ============================== SHIFT AND ====================================== \n",
        "    myfile << \"Shift And\";\n",
        "    for(int i = 0; i < 5; i++){\n",
        "      myfile << \",\" << shift_and[i];\n",
        "      cout << shift_and[i] << \" | \";\n",
        "    }\n",
        "    myfile << \"\\n\";\n",
        "\n",
        "    cout << '\\n';\n",
        "    \n",
        "    // ============================== SHIFT AND APROX K1 ======================================\n",
        "    myfile << \"Shift And k1\";\n",
        "    for(int i = 0; i < 5; i++){\n",
        "      myfile << \",\" << shift_and_aprox_k1[i];\n",
        "      cout << shift_and_aprox_k1[i] << \" | \";\n",
        "    }\n",
        "    myfile << \"\\n\";\n",
        "\n",
        "    cout << '\\n';\n",
        "\n",
        "    // ============================== SHIFT AND APROX K2 ======================================\n",
        "    myfile << \"Shift And k2\";\n",
        "    for(int i = 0; i < 5; i++){\n",
        "      myfile << \",\" << shift_and_aprox_k2[i];\n",
        "      cout << shift_and_aprox_k2[i] << \" | \";\n",
        "    }\n",
        "    myfile << \"\\n\";\n",
        "\n",
        "    myfile.close();\n",
        "    return 0;\n",
        "}"
      ],
      "metadata": {
        "colab": {
          "base_uri": "https://localhost:8080/"
        },
        "id": "C58AzC2xL6vC",
        "outputId": "5c490934-a2c9-48f0-a6b1-5e44bded3c8f"
      },
      "execution_count": 264,
      "outputs": [
        {
          "output_type": "stream",
          "name": "stdout",
          "text": [
            "Overwriting main.cpp\n"
          ]
        }
      ]
    },
    {
      "cell_type": "code",
      "source": [
        "%%shell\n",
        "\n",
        "g++ main.cpp -o main\n",
        "./test"
      ],
      "metadata": {
        "id": "XEtkHfb0L6Km",
        "colab": {
          "base_uri": "https://localhost:8080/"
        },
        "outputId": "88be2f44-612d-45a1-f273-14e9a08953b1"
      },
      "execution_count": 265,
      "outputs": [
        {
          "output_type": "stream",
          "name": "stdout",
          "text": [
            "9239.8 | 20744.1 | 26063.3 | 35403.9 | 87150 | \n",
            "1452.9 | 2393.7 | 3377 | 4345.7 | 14119.9 | \n",
            "1389.8 | 2301 | 3111.9 | 4051.4 | 10871.1 | \n",
            "10729.1 | 15381.8 | 20288.9 | 25282.9 | 55632.8 | \n",
            "4089.2 | 7755 | 13901.8 | 15133.1 | 40078.1 | \n",
            "6012.9 | 11920.2 | 17249.1 | 26261.8 | 56639.2 | "
          ]
        },
        {
          "output_type": "execute_result",
          "data": {
            "text/plain": []
          },
          "metadata": {},
          "execution_count": 265
        }
      ]
    },
    {
      "cell_type": "markdown",
      "source": [
        "#Plotagem dos Gráficos e Tabelas"
      ],
      "metadata": {
        "id": "UznjNmfzWgDY"
      }
    },
    {
      "cell_type": "code",
      "source": [
        "import pandas as pd\n",
        "import plotly.graph_objects as go"
      ],
      "metadata": {
        "id": "33zT8PvDLuwX"
      },
      "execution_count": 266,
      "outputs": []
    },
    {
      "cell_type": "code",
      "source": [
        "df = pd.read_csv('Output.csv')\n",
        "means = []\n",
        "for i in df.iterrows():\n",
        "    means.append(i[1][1:6].tolist())\n",
        "\n",
        "labels = ['500','1000','1500','2000','5000']\n",
        "columns = ['Brute Force','BMH','BMHS','S.A Exactly','S.A Approx K=1','S.A Approx K=2']"
      ],
      "metadata": {
        "id": "9O2sWT8pPWaS"
      },
      "execution_count": 267,
      "outputs": []
    },
    {
      "cell_type": "code",
      "source": [],
      "metadata": {
        "id": "Q1fwhgZ5W1v7"
      },
      "execution_count": null,
      "outputs": []
    },
    {
      "cell_type": "code",
      "source": [
        "graph = go.Figure()\n",
        "graph.update_layout(\n",
        "    title=\"Algoritmos de Casamento de Padrão\",\n",
        "    xaxis_title=\"Quantidade de Caracteres\",\n",
        "    yaxis_title=\"Tempo(ns)\",\n",
        "    font=dict(\n",
        "        family=\"Courier New, monospace\",\n",
        "        size=18,\n",
        "        color=\"RebeccaPurple\"\n",
        "    ),\n",
        "  width=1400, \n",
        "  height=800\n",
        ")\n",
        "\n",
        "for i in range(6):\n",
        "  graph.add_trace(go.Scatter(x=labels, y=means[i],mode='lines',name=columns[i]))\n",
        "\n",
        "graph.show()"
      ],
      "metadata": {
        "colab": {
          "base_uri": "https://localhost:8080/",
          "height": 817
        },
        "id": "35Qa9-vnt8ow",
        "outputId": "330affa8-96ba-4520-91ba-ddcae1e3d8f7"
      },
      "execution_count": 268,
      "outputs": [
        {
          "output_type": "display_data",
          "data": {
            "text/html": [
              "<html>\n",
              "<head><meta charset=\"utf-8\" /></head>\n",
              "<body>\n",
              "    <div>            <script src=\"https://cdnjs.cloudflare.com/ajax/libs/mathjax/2.7.5/MathJax.js?config=TeX-AMS-MML_SVG\"></script><script type=\"text/javascript\">if (window.MathJax) {MathJax.Hub.Config({SVG: {font: \"STIX-Web\"}});}</script>                <script type=\"text/javascript\">window.PlotlyConfig = {MathJaxConfig: 'local'};</script>\n",
              "        <script src=\"https://cdn.plot.ly/plotly-2.8.3.min.js\"></script>                <div id=\"490d520b-c52b-4395-a574-69d63fab9930\" class=\"plotly-graph-div\" style=\"height:800px; width:1400px;\"></div>            <script type=\"text/javascript\">                                    window.PLOTLYENV=window.PLOTLYENV || {};                                    if (document.getElementById(\"490d520b-c52b-4395-a574-69d63fab9930\")) {                    Plotly.newPlot(                        \"490d520b-c52b-4395-a574-69d63fab9930\",                        [{\"mode\":\"lines\",\"name\":\"Brute Force\",\"x\":[\"500\",\"1000\",\"1500\",\"2000\",\"5000\"],\"y\":[9239.8,20744.1,26063.3,35403.9,87150.0],\"type\":\"scatter\"},{\"mode\":\"lines\",\"name\":\"BMH\",\"x\":[\"500\",\"1000\",\"1500\",\"2000\",\"5000\"],\"y\":[1452.9,2393.7,3377.0,4345.7,14119.9],\"type\":\"scatter\"},{\"mode\":\"lines\",\"name\":\"BMHS\",\"x\":[\"500\",\"1000\",\"1500\",\"2000\",\"5000\"],\"y\":[1389.8,2301.0,3111.9,4051.4,10871.1],\"type\":\"scatter\"},{\"mode\":\"lines\",\"name\":\"S.A Exactly\",\"x\":[\"500\",\"1000\",\"1500\",\"2000\",\"5000\"],\"y\":[10729.1,15381.8,20288.9,25282.9,55632.8],\"type\":\"scatter\"},{\"mode\":\"lines\",\"name\":\"S.A Approx K=1\",\"x\":[\"500\",\"1000\",\"1500\",\"2000\",\"5000\"],\"y\":[4089.2,7755.0,13901.8,15133.1,40078.1],\"type\":\"scatter\"},{\"mode\":\"lines\",\"name\":\"S.A Approx K=2\",\"x\":[\"500\",\"1000\",\"1500\",\"2000\",\"5000\"],\"y\":[6012.9,11920.2,17249.1,26261.8,56639.2],\"type\":\"scatter\"}],                        {\"template\":{\"data\":{\"bar\":[{\"error_x\":{\"color\":\"#2a3f5f\"},\"error_y\":{\"color\":\"#2a3f5f\"},\"marker\":{\"line\":{\"color\":\"#E5ECF6\",\"width\":0.5},\"pattern\":{\"fillmode\":\"overlay\",\"size\":10,\"solidity\":0.2}},\"type\":\"bar\"}],\"barpolar\":[{\"marker\":{\"line\":{\"color\":\"#E5ECF6\",\"width\":0.5},\"pattern\":{\"fillmode\":\"overlay\",\"size\":10,\"solidity\":0.2}},\"type\":\"barpolar\"}],\"carpet\":[{\"aaxis\":{\"endlinecolor\":\"#2a3f5f\",\"gridcolor\":\"white\",\"linecolor\":\"white\",\"minorgridcolor\":\"white\",\"startlinecolor\":\"#2a3f5f\"},\"baxis\":{\"endlinecolor\":\"#2a3f5f\",\"gridcolor\":\"white\",\"linecolor\":\"white\",\"minorgridcolor\":\"white\",\"startlinecolor\":\"#2a3f5f\"},\"type\":\"carpet\"}],\"choropleth\":[{\"colorbar\":{\"outlinewidth\":0,\"ticks\":\"\"},\"type\":\"choropleth\"}],\"contour\":[{\"colorbar\":{\"outlinewidth\":0,\"ticks\":\"\"},\"colorscale\":[[0.0,\"#0d0887\"],[0.1111111111111111,\"#46039f\"],[0.2222222222222222,\"#7201a8\"],[0.3333333333333333,\"#9c179e\"],[0.4444444444444444,\"#bd3786\"],[0.5555555555555556,\"#d8576b\"],[0.6666666666666666,\"#ed7953\"],[0.7777777777777778,\"#fb9f3a\"],[0.8888888888888888,\"#fdca26\"],[1.0,\"#f0f921\"]],\"type\":\"contour\"}],\"contourcarpet\":[{\"colorbar\":{\"outlinewidth\":0,\"ticks\":\"\"},\"type\":\"contourcarpet\"}],\"heatmap\":[{\"colorbar\":{\"outlinewidth\":0,\"ticks\":\"\"},\"colorscale\":[[0.0,\"#0d0887\"],[0.1111111111111111,\"#46039f\"],[0.2222222222222222,\"#7201a8\"],[0.3333333333333333,\"#9c179e\"],[0.4444444444444444,\"#bd3786\"],[0.5555555555555556,\"#d8576b\"],[0.6666666666666666,\"#ed7953\"],[0.7777777777777778,\"#fb9f3a\"],[0.8888888888888888,\"#fdca26\"],[1.0,\"#f0f921\"]],\"type\":\"heatmap\"}],\"heatmapgl\":[{\"colorbar\":{\"outlinewidth\":0,\"ticks\":\"\"},\"colorscale\":[[0.0,\"#0d0887\"],[0.1111111111111111,\"#46039f\"],[0.2222222222222222,\"#7201a8\"],[0.3333333333333333,\"#9c179e\"],[0.4444444444444444,\"#bd3786\"],[0.5555555555555556,\"#d8576b\"],[0.6666666666666666,\"#ed7953\"],[0.7777777777777778,\"#fb9f3a\"],[0.8888888888888888,\"#fdca26\"],[1.0,\"#f0f921\"]],\"type\":\"heatmapgl\"}],\"histogram\":[{\"marker\":{\"pattern\":{\"fillmode\":\"overlay\",\"size\":10,\"solidity\":0.2}},\"type\":\"histogram\"}],\"histogram2d\":[{\"colorbar\":{\"outlinewidth\":0,\"ticks\":\"\"},\"colorscale\":[[0.0,\"#0d0887\"],[0.1111111111111111,\"#46039f\"],[0.2222222222222222,\"#7201a8\"],[0.3333333333333333,\"#9c179e\"],[0.4444444444444444,\"#bd3786\"],[0.5555555555555556,\"#d8576b\"],[0.6666666666666666,\"#ed7953\"],[0.7777777777777778,\"#fb9f3a\"],[0.8888888888888888,\"#fdca26\"],[1.0,\"#f0f921\"]],\"type\":\"histogram2d\"}],\"histogram2dcontour\":[{\"colorbar\":{\"outlinewidth\":0,\"ticks\":\"\"},\"colorscale\":[[0.0,\"#0d0887\"],[0.1111111111111111,\"#46039f\"],[0.2222222222222222,\"#7201a8\"],[0.3333333333333333,\"#9c179e\"],[0.4444444444444444,\"#bd3786\"],[0.5555555555555556,\"#d8576b\"],[0.6666666666666666,\"#ed7953\"],[0.7777777777777778,\"#fb9f3a\"],[0.8888888888888888,\"#fdca26\"],[1.0,\"#f0f921\"]],\"type\":\"histogram2dcontour\"}],\"mesh3d\":[{\"colorbar\":{\"outlinewidth\":0,\"ticks\":\"\"},\"type\":\"mesh3d\"}],\"parcoords\":[{\"line\":{\"colorbar\":{\"outlinewidth\":0,\"ticks\":\"\"}},\"type\":\"parcoords\"}],\"pie\":[{\"automargin\":true,\"type\":\"pie\"}],\"scatter\":[{\"marker\":{\"colorbar\":{\"outlinewidth\":0,\"ticks\":\"\"}},\"type\":\"scatter\"}],\"scatter3d\":[{\"line\":{\"colorbar\":{\"outlinewidth\":0,\"ticks\":\"\"}},\"marker\":{\"colorbar\":{\"outlinewidth\":0,\"ticks\":\"\"}},\"type\":\"scatter3d\"}],\"scattercarpet\":[{\"marker\":{\"colorbar\":{\"outlinewidth\":0,\"ticks\":\"\"}},\"type\":\"scattercarpet\"}],\"scattergeo\":[{\"marker\":{\"colorbar\":{\"outlinewidth\":0,\"ticks\":\"\"}},\"type\":\"scattergeo\"}],\"scattergl\":[{\"marker\":{\"colorbar\":{\"outlinewidth\":0,\"ticks\":\"\"}},\"type\":\"scattergl\"}],\"scattermapbox\":[{\"marker\":{\"colorbar\":{\"outlinewidth\":0,\"ticks\":\"\"}},\"type\":\"scattermapbox\"}],\"scatterpolar\":[{\"marker\":{\"colorbar\":{\"outlinewidth\":0,\"ticks\":\"\"}},\"type\":\"scatterpolar\"}],\"scatterpolargl\":[{\"marker\":{\"colorbar\":{\"outlinewidth\":0,\"ticks\":\"\"}},\"type\":\"scatterpolargl\"}],\"scatterternary\":[{\"marker\":{\"colorbar\":{\"outlinewidth\":0,\"ticks\":\"\"}},\"type\":\"scatterternary\"}],\"surface\":[{\"colorbar\":{\"outlinewidth\":0,\"ticks\":\"\"},\"colorscale\":[[0.0,\"#0d0887\"],[0.1111111111111111,\"#46039f\"],[0.2222222222222222,\"#7201a8\"],[0.3333333333333333,\"#9c179e\"],[0.4444444444444444,\"#bd3786\"],[0.5555555555555556,\"#d8576b\"],[0.6666666666666666,\"#ed7953\"],[0.7777777777777778,\"#fb9f3a\"],[0.8888888888888888,\"#fdca26\"],[1.0,\"#f0f921\"]],\"type\":\"surface\"}],\"table\":[{\"cells\":{\"fill\":{\"color\":\"#EBF0F8\"},\"line\":{\"color\":\"white\"}},\"header\":{\"fill\":{\"color\":\"#C8D4E3\"},\"line\":{\"color\":\"white\"}},\"type\":\"table\"}]},\"layout\":{\"annotationdefaults\":{\"arrowcolor\":\"#2a3f5f\",\"arrowhead\":0,\"arrowwidth\":1},\"autotypenumbers\":\"strict\",\"coloraxis\":{\"colorbar\":{\"outlinewidth\":0,\"ticks\":\"\"}},\"colorscale\":{\"diverging\":[[0,\"#8e0152\"],[0.1,\"#c51b7d\"],[0.2,\"#de77ae\"],[0.3,\"#f1b6da\"],[0.4,\"#fde0ef\"],[0.5,\"#f7f7f7\"],[0.6,\"#e6f5d0\"],[0.7,\"#b8e186\"],[0.8,\"#7fbc41\"],[0.9,\"#4d9221\"],[1,\"#276419\"]],\"sequential\":[[0.0,\"#0d0887\"],[0.1111111111111111,\"#46039f\"],[0.2222222222222222,\"#7201a8\"],[0.3333333333333333,\"#9c179e\"],[0.4444444444444444,\"#bd3786\"],[0.5555555555555556,\"#d8576b\"],[0.6666666666666666,\"#ed7953\"],[0.7777777777777778,\"#fb9f3a\"],[0.8888888888888888,\"#fdca26\"],[1.0,\"#f0f921\"]],\"sequentialminus\":[[0.0,\"#0d0887\"],[0.1111111111111111,\"#46039f\"],[0.2222222222222222,\"#7201a8\"],[0.3333333333333333,\"#9c179e\"],[0.4444444444444444,\"#bd3786\"],[0.5555555555555556,\"#d8576b\"],[0.6666666666666666,\"#ed7953\"],[0.7777777777777778,\"#fb9f3a\"],[0.8888888888888888,\"#fdca26\"],[1.0,\"#f0f921\"]]},\"colorway\":[\"#636efa\",\"#EF553B\",\"#00cc96\",\"#ab63fa\",\"#FFA15A\",\"#19d3f3\",\"#FF6692\",\"#B6E880\",\"#FF97FF\",\"#FECB52\"],\"font\":{\"color\":\"#2a3f5f\"},\"geo\":{\"bgcolor\":\"white\",\"lakecolor\":\"white\",\"landcolor\":\"#E5ECF6\",\"showlakes\":true,\"showland\":true,\"subunitcolor\":\"white\"},\"hoverlabel\":{\"align\":\"left\"},\"hovermode\":\"closest\",\"mapbox\":{\"style\":\"light\"},\"paper_bgcolor\":\"white\",\"plot_bgcolor\":\"#E5ECF6\",\"polar\":{\"angularaxis\":{\"gridcolor\":\"white\",\"linecolor\":\"white\",\"ticks\":\"\"},\"bgcolor\":\"#E5ECF6\",\"radialaxis\":{\"gridcolor\":\"white\",\"linecolor\":\"white\",\"ticks\":\"\"}},\"scene\":{\"xaxis\":{\"backgroundcolor\":\"#E5ECF6\",\"gridcolor\":\"white\",\"gridwidth\":2,\"linecolor\":\"white\",\"showbackground\":true,\"ticks\":\"\",\"zerolinecolor\":\"white\"},\"yaxis\":{\"backgroundcolor\":\"#E5ECF6\",\"gridcolor\":\"white\",\"gridwidth\":2,\"linecolor\":\"white\",\"showbackground\":true,\"ticks\":\"\",\"zerolinecolor\":\"white\"},\"zaxis\":{\"backgroundcolor\":\"#E5ECF6\",\"gridcolor\":\"white\",\"gridwidth\":2,\"linecolor\":\"white\",\"showbackground\":true,\"ticks\":\"\",\"zerolinecolor\":\"white\"}},\"shapedefaults\":{\"line\":{\"color\":\"#2a3f5f\"}},\"ternary\":{\"aaxis\":{\"gridcolor\":\"white\",\"linecolor\":\"white\",\"ticks\":\"\"},\"baxis\":{\"gridcolor\":\"white\",\"linecolor\":\"white\",\"ticks\":\"\"},\"bgcolor\":\"#E5ECF6\",\"caxis\":{\"gridcolor\":\"white\",\"linecolor\":\"white\",\"ticks\":\"\"}},\"title\":{\"x\":0.05},\"xaxis\":{\"automargin\":true,\"gridcolor\":\"white\",\"linecolor\":\"white\",\"ticks\":\"\",\"title\":{\"standoff\":15},\"zerolinecolor\":\"white\",\"zerolinewidth\":2},\"yaxis\":{\"automargin\":true,\"gridcolor\":\"white\",\"linecolor\":\"white\",\"ticks\":\"\",\"title\":{\"standoff\":15},\"zerolinecolor\":\"white\",\"zerolinewidth\":2}}},\"font\":{\"family\":\"Courier New, monospace\",\"size\":18,\"color\":\"RebeccaPurple\"},\"title\":{\"text\":\"Algoritmos de Casamento de Padr\\u00e3o\"},\"xaxis\":{\"title\":{\"text\":\"Quantidade de Caracteres\"}},\"yaxis\":{\"title\":{\"text\":\"Tempo(ns)\"}},\"width\":1400,\"height\":800},                        {\"responsive\": true}                    ).then(function(){\n",
              "                            \n",
              "var gd = document.getElementById('490d520b-c52b-4395-a574-69d63fab9930');\n",
              "var x = new MutationObserver(function (mutations, observer) {{\n",
              "        var display = window.getComputedStyle(gd).display;\n",
              "        if (!display || display === 'none') {{\n",
              "            console.log([gd, 'removed!']);\n",
              "            Plotly.purge(gd);\n",
              "            observer.disconnect();\n",
              "        }}\n",
              "}});\n",
              "\n",
              "// Listen for the removal of the full notebook cells\n",
              "var notebookContainer = gd.closest('#notebook-container');\n",
              "if (notebookContainer) {{\n",
              "    x.observe(notebookContainer, {childList: true});\n",
              "}}\n",
              "\n",
              "// Listen for the clearing of the current output cell\n",
              "var outputEl = gd.closest('.output');\n",
              "if (outputEl) {{\n",
              "    x.observe(outputEl, {childList: true});\n",
              "}}\n",
              "\n",
              "                        })                };                            </script>        </div>\n",
              "</body>\n",
              "</html>"
            ]
          },
          "metadata": {}
        }
      ]
    },
    {
      "cell_type": "code",
      "source": [
        "labels = ['<b>Algoritmos</b>','<b>T500</b>','<b>T1000</b>','<b>T1500</b>','<b>T2000</b>','<b>T5000</b>']\n",
        "means_transpose = list(np.transpose(means))\n",
        "means_transpose.insert(0, columns)\n",
        "\n",
        "headerColor = 'grey'\n",
        "rowEvenColor = 'lightgrey'\n",
        "rowOddColor = 'white'\n",
        "\n",
        "table = go.Figure(data=[go.Table(header=dict(values=labels,\n",
        "                                             line_color='darkslategray',\n",
        "                                             fill_color=headerColor,\n",
        "                                             font=dict(color='white', size=12)),\n",
        "                 cells=dict(values=means_transpose,\n",
        "                            line_color='darkslategray',\n",
        "                            fill_color = [[rowOddColor,rowEvenColor,rowOddColor, rowEvenColor,rowOddColor,rowEvenColor]*5],\n",
        "                            font=dict(color='darkslategray', size=12)))])\n",
        "\n",
        "table.update_layout(\n",
        "  width=1400, \n",
        "  height=800\n",
        ")\n",
        "\n",
        "\n",
        "table.show()"
      ],
      "metadata": {
        "colab": {
          "base_uri": "https://localhost:8080/",
          "height": 817
        },
        "id": "dRb7c_pM0JbM",
        "outputId": "9b225954-a765-489b-e6e6-fe2d07d09cb1"
      },
      "execution_count": 269,
      "outputs": [
        {
          "output_type": "display_data",
          "data": {
            "text/html": [
              "<html>\n",
              "<head><meta charset=\"utf-8\" /></head>\n",
              "<body>\n",
              "    <div>            <script src=\"https://cdnjs.cloudflare.com/ajax/libs/mathjax/2.7.5/MathJax.js?config=TeX-AMS-MML_SVG\"></script><script type=\"text/javascript\">if (window.MathJax) {MathJax.Hub.Config({SVG: {font: \"STIX-Web\"}});}</script>                <script type=\"text/javascript\">window.PlotlyConfig = {MathJaxConfig: 'local'};</script>\n",
              "        <script src=\"https://cdn.plot.ly/plotly-2.8.3.min.js\"></script>                <div id=\"05289fd6-398f-4837-aa60-010f6cb5fc5f\" class=\"plotly-graph-div\" style=\"height:800px; width:1400px;\"></div>            <script type=\"text/javascript\">                                    window.PLOTLYENV=window.PLOTLYENV || {};                                    if (document.getElementById(\"05289fd6-398f-4837-aa60-010f6cb5fc5f\")) {                    Plotly.newPlot(                        \"05289fd6-398f-4837-aa60-010f6cb5fc5f\",                        [{\"cells\":{\"fill\":{\"color\":[[\"white\",\"lightgrey\",\"white\",\"lightgrey\",\"white\",\"lightgrey\",\"white\",\"lightgrey\",\"white\",\"lightgrey\",\"white\",\"lightgrey\",\"white\",\"lightgrey\",\"white\",\"lightgrey\",\"white\",\"lightgrey\",\"white\",\"lightgrey\",\"white\",\"lightgrey\",\"white\",\"lightgrey\",\"white\",\"lightgrey\",\"white\",\"lightgrey\",\"white\",\"lightgrey\"]]},\"font\":{\"color\":\"darkslategray\",\"size\":12},\"line\":{\"color\":\"darkslategray\"},\"values\":[[\"Brute Force\",\"BMH\",\"BMHS\",\"S.A Exactly\",\"S.A Approx K=1\",\"S.A Approx K=2\"],[9239.8,1452.9,1389.8,10729.1,4089.2,6012.9],[20744.1,2393.7,2301.0,15381.8,7755.0,11920.2],[26063.3,3377.0,3111.9,20288.9,13901.8,17249.1],[35403.9,4345.7,4051.4,25282.9,15133.1,26261.8],[87150.0,14119.9,10871.1,55632.8,40078.1,56639.2]]},\"header\":{\"fill\":{\"color\":\"grey\"},\"font\":{\"color\":\"white\",\"size\":12},\"line\":{\"color\":\"darkslategray\"},\"values\":[\"<b>Algoritmos</b>\",\"<b>T500</b>\",\"<b>T1000</b>\",\"<b>T1500</b>\",\"<b>T2000</b>\",\"<b>T5000</b>\"]},\"type\":\"table\"}],                        {\"template\":{\"data\":{\"bar\":[{\"error_x\":{\"color\":\"#2a3f5f\"},\"error_y\":{\"color\":\"#2a3f5f\"},\"marker\":{\"line\":{\"color\":\"#E5ECF6\",\"width\":0.5},\"pattern\":{\"fillmode\":\"overlay\",\"size\":10,\"solidity\":0.2}},\"type\":\"bar\"}],\"barpolar\":[{\"marker\":{\"line\":{\"color\":\"#E5ECF6\",\"width\":0.5},\"pattern\":{\"fillmode\":\"overlay\",\"size\":10,\"solidity\":0.2}},\"type\":\"barpolar\"}],\"carpet\":[{\"aaxis\":{\"endlinecolor\":\"#2a3f5f\",\"gridcolor\":\"white\",\"linecolor\":\"white\",\"minorgridcolor\":\"white\",\"startlinecolor\":\"#2a3f5f\"},\"baxis\":{\"endlinecolor\":\"#2a3f5f\",\"gridcolor\":\"white\",\"linecolor\":\"white\",\"minorgridcolor\":\"white\",\"startlinecolor\":\"#2a3f5f\"},\"type\":\"carpet\"}],\"choropleth\":[{\"colorbar\":{\"outlinewidth\":0,\"ticks\":\"\"},\"type\":\"choropleth\"}],\"contour\":[{\"colorbar\":{\"outlinewidth\":0,\"ticks\":\"\"},\"colorscale\":[[0.0,\"#0d0887\"],[0.1111111111111111,\"#46039f\"],[0.2222222222222222,\"#7201a8\"],[0.3333333333333333,\"#9c179e\"],[0.4444444444444444,\"#bd3786\"],[0.5555555555555556,\"#d8576b\"],[0.6666666666666666,\"#ed7953\"],[0.7777777777777778,\"#fb9f3a\"],[0.8888888888888888,\"#fdca26\"],[1.0,\"#f0f921\"]],\"type\":\"contour\"}],\"contourcarpet\":[{\"colorbar\":{\"outlinewidth\":0,\"ticks\":\"\"},\"type\":\"contourcarpet\"}],\"heatmap\":[{\"colorbar\":{\"outlinewidth\":0,\"ticks\":\"\"},\"colorscale\":[[0.0,\"#0d0887\"],[0.1111111111111111,\"#46039f\"],[0.2222222222222222,\"#7201a8\"],[0.3333333333333333,\"#9c179e\"],[0.4444444444444444,\"#bd3786\"],[0.5555555555555556,\"#d8576b\"],[0.6666666666666666,\"#ed7953\"],[0.7777777777777778,\"#fb9f3a\"],[0.8888888888888888,\"#fdca26\"],[1.0,\"#f0f921\"]],\"type\":\"heatmap\"}],\"heatmapgl\":[{\"colorbar\":{\"outlinewidth\":0,\"ticks\":\"\"},\"colorscale\":[[0.0,\"#0d0887\"],[0.1111111111111111,\"#46039f\"],[0.2222222222222222,\"#7201a8\"],[0.3333333333333333,\"#9c179e\"],[0.4444444444444444,\"#bd3786\"],[0.5555555555555556,\"#d8576b\"],[0.6666666666666666,\"#ed7953\"],[0.7777777777777778,\"#fb9f3a\"],[0.8888888888888888,\"#fdca26\"],[1.0,\"#f0f921\"]],\"type\":\"heatmapgl\"}],\"histogram\":[{\"marker\":{\"pattern\":{\"fillmode\":\"overlay\",\"size\":10,\"solidity\":0.2}},\"type\":\"histogram\"}],\"histogram2d\":[{\"colorbar\":{\"outlinewidth\":0,\"ticks\":\"\"},\"colorscale\":[[0.0,\"#0d0887\"],[0.1111111111111111,\"#46039f\"],[0.2222222222222222,\"#7201a8\"],[0.3333333333333333,\"#9c179e\"],[0.4444444444444444,\"#bd3786\"],[0.5555555555555556,\"#d8576b\"],[0.6666666666666666,\"#ed7953\"],[0.7777777777777778,\"#fb9f3a\"],[0.8888888888888888,\"#fdca26\"],[1.0,\"#f0f921\"]],\"type\":\"histogram2d\"}],\"histogram2dcontour\":[{\"colorbar\":{\"outlinewidth\":0,\"ticks\":\"\"},\"colorscale\":[[0.0,\"#0d0887\"],[0.1111111111111111,\"#46039f\"],[0.2222222222222222,\"#7201a8\"],[0.3333333333333333,\"#9c179e\"],[0.4444444444444444,\"#bd3786\"],[0.5555555555555556,\"#d8576b\"],[0.6666666666666666,\"#ed7953\"],[0.7777777777777778,\"#fb9f3a\"],[0.8888888888888888,\"#fdca26\"],[1.0,\"#f0f921\"]],\"type\":\"histogram2dcontour\"}],\"mesh3d\":[{\"colorbar\":{\"outlinewidth\":0,\"ticks\":\"\"},\"type\":\"mesh3d\"}],\"parcoords\":[{\"line\":{\"colorbar\":{\"outlinewidth\":0,\"ticks\":\"\"}},\"type\":\"parcoords\"}],\"pie\":[{\"automargin\":true,\"type\":\"pie\"}],\"scatter\":[{\"marker\":{\"colorbar\":{\"outlinewidth\":0,\"ticks\":\"\"}},\"type\":\"scatter\"}],\"scatter3d\":[{\"line\":{\"colorbar\":{\"outlinewidth\":0,\"ticks\":\"\"}},\"marker\":{\"colorbar\":{\"outlinewidth\":0,\"ticks\":\"\"}},\"type\":\"scatter3d\"}],\"scattercarpet\":[{\"marker\":{\"colorbar\":{\"outlinewidth\":0,\"ticks\":\"\"}},\"type\":\"scattercarpet\"}],\"scattergeo\":[{\"marker\":{\"colorbar\":{\"outlinewidth\":0,\"ticks\":\"\"}},\"type\":\"scattergeo\"}],\"scattergl\":[{\"marker\":{\"colorbar\":{\"outlinewidth\":0,\"ticks\":\"\"}},\"type\":\"scattergl\"}],\"scattermapbox\":[{\"marker\":{\"colorbar\":{\"outlinewidth\":0,\"ticks\":\"\"}},\"type\":\"scattermapbox\"}],\"scatterpolar\":[{\"marker\":{\"colorbar\":{\"outlinewidth\":0,\"ticks\":\"\"}},\"type\":\"scatterpolar\"}],\"scatterpolargl\":[{\"marker\":{\"colorbar\":{\"outlinewidth\":0,\"ticks\":\"\"}},\"type\":\"scatterpolargl\"}],\"scatterternary\":[{\"marker\":{\"colorbar\":{\"outlinewidth\":0,\"ticks\":\"\"}},\"type\":\"scatterternary\"}],\"surface\":[{\"colorbar\":{\"outlinewidth\":0,\"ticks\":\"\"},\"colorscale\":[[0.0,\"#0d0887\"],[0.1111111111111111,\"#46039f\"],[0.2222222222222222,\"#7201a8\"],[0.3333333333333333,\"#9c179e\"],[0.4444444444444444,\"#bd3786\"],[0.5555555555555556,\"#d8576b\"],[0.6666666666666666,\"#ed7953\"],[0.7777777777777778,\"#fb9f3a\"],[0.8888888888888888,\"#fdca26\"],[1.0,\"#f0f921\"]],\"type\":\"surface\"}],\"table\":[{\"cells\":{\"fill\":{\"color\":\"#EBF0F8\"},\"line\":{\"color\":\"white\"}},\"header\":{\"fill\":{\"color\":\"#C8D4E3\"},\"line\":{\"color\":\"white\"}},\"type\":\"table\"}]},\"layout\":{\"annotationdefaults\":{\"arrowcolor\":\"#2a3f5f\",\"arrowhead\":0,\"arrowwidth\":1},\"autotypenumbers\":\"strict\",\"coloraxis\":{\"colorbar\":{\"outlinewidth\":0,\"ticks\":\"\"}},\"colorscale\":{\"diverging\":[[0,\"#8e0152\"],[0.1,\"#c51b7d\"],[0.2,\"#de77ae\"],[0.3,\"#f1b6da\"],[0.4,\"#fde0ef\"],[0.5,\"#f7f7f7\"],[0.6,\"#e6f5d0\"],[0.7,\"#b8e186\"],[0.8,\"#7fbc41\"],[0.9,\"#4d9221\"],[1,\"#276419\"]],\"sequential\":[[0.0,\"#0d0887\"],[0.1111111111111111,\"#46039f\"],[0.2222222222222222,\"#7201a8\"],[0.3333333333333333,\"#9c179e\"],[0.4444444444444444,\"#bd3786\"],[0.5555555555555556,\"#d8576b\"],[0.6666666666666666,\"#ed7953\"],[0.7777777777777778,\"#fb9f3a\"],[0.8888888888888888,\"#fdca26\"],[1.0,\"#f0f921\"]],\"sequentialminus\":[[0.0,\"#0d0887\"],[0.1111111111111111,\"#46039f\"],[0.2222222222222222,\"#7201a8\"],[0.3333333333333333,\"#9c179e\"],[0.4444444444444444,\"#bd3786\"],[0.5555555555555556,\"#d8576b\"],[0.6666666666666666,\"#ed7953\"],[0.7777777777777778,\"#fb9f3a\"],[0.8888888888888888,\"#fdca26\"],[1.0,\"#f0f921\"]]},\"colorway\":[\"#636efa\",\"#EF553B\",\"#00cc96\",\"#ab63fa\",\"#FFA15A\",\"#19d3f3\",\"#FF6692\",\"#B6E880\",\"#FF97FF\",\"#FECB52\"],\"font\":{\"color\":\"#2a3f5f\"},\"geo\":{\"bgcolor\":\"white\",\"lakecolor\":\"white\",\"landcolor\":\"#E5ECF6\",\"showlakes\":true,\"showland\":true,\"subunitcolor\":\"white\"},\"hoverlabel\":{\"align\":\"left\"},\"hovermode\":\"closest\",\"mapbox\":{\"style\":\"light\"},\"paper_bgcolor\":\"white\",\"plot_bgcolor\":\"#E5ECF6\",\"polar\":{\"angularaxis\":{\"gridcolor\":\"white\",\"linecolor\":\"white\",\"ticks\":\"\"},\"bgcolor\":\"#E5ECF6\",\"radialaxis\":{\"gridcolor\":\"white\",\"linecolor\":\"white\",\"ticks\":\"\"}},\"scene\":{\"xaxis\":{\"backgroundcolor\":\"#E5ECF6\",\"gridcolor\":\"white\",\"gridwidth\":2,\"linecolor\":\"white\",\"showbackground\":true,\"ticks\":\"\",\"zerolinecolor\":\"white\"},\"yaxis\":{\"backgroundcolor\":\"#E5ECF6\",\"gridcolor\":\"white\",\"gridwidth\":2,\"linecolor\":\"white\",\"showbackground\":true,\"ticks\":\"\",\"zerolinecolor\":\"white\"},\"zaxis\":{\"backgroundcolor\":\"#E5ECF6\",\"gridcolor\":\"white\",\"gridwidth\":2,\"linecolor\":\"white\",\"showbackground\":true,\"ticks\":\"\",\"zerolinecolor\":\"white\"}},\"shapedefaults\":{\"line\":{\"color\":\"#2a3f5f\"}},\"ternary\":{\"aaxis\":{\"gridcolor\":\"white\",\"linecolor\":\"white\",\"ticks\":\"\"},\"baxis\":{\"gridcolor\":\"white\",\"linecolor\":\"white\",\"ticks\":\"\"},\"bgcolor\":\"#E5ECF6\",\"caxis\":{\"gridcolor\":\"white\",\"linecolor\":\"white\",\"ticks\":\"\"}},\"title\":{\"x\":0.05},\"xaxis\":{\"automargin\":true,\"gridcolor\":\"white\",\"linecolor\":\"white\",\"ticks\":\"\",\"title\":{\"standoff\":15},\"zerolinecolor\":\"white\",\"zerolinewidth\":2},\"yaxis\":{\"automargin\":true,\"gridcolor\":\"white\",\"linecolor\":\"white\",\"ticks\":\"\",\"title\":{\"standoff\":15},\"zerolinecolor\":\"white\",\"zerolinewidth\":2}}},\"width\":1400,\"height\":800},                        {\"responsive\": true}                    ).then(function(){\n",
              "                            \n",
              "var gd = document.getElementById('05289fd6-398f-4837-aa60-010f6cb5fc5f');\n",
              "var x = new MutationObserver(function (mutations, observer) {{\n",
              "        var display = window.getComputedStyle(gd).display;\n",
              "        if (!display || display === 'none') {{\n",
              "            console.log([gd, 'removed!']);\n",
              "            Plotly.purge(gd);\n",
              "            observer.disconnect();\n",
              "        }}\n",
              "}});\n",
              "\n",
              "// Listen for the removal of the full notebook cells\n",
              "var notebookContainer = gd.closest('#notebook-container');\n",
              "if (notebookContainer) {{\n",
              "    x.observe(notebookContainer, {childList: true});\n",
              "}}\n",
              "\n",
              "// Listen for the clearing of the current output cell\n",
              "var outputEl = gd.closest('.output');\n",
              "if (outputEl) {{\n",
              "    x.observe(outputEl, {childList: true});\n",
              "}}\n",
              "\n",
              "                        })                };                            </script>        </div>\n",
              "</body>\n",
              "</html>"
            ]
          },
          "metadata": {}
        }
      ]
    },
    {
      "cell_type": "code",
      "source": [
        "labels = ['<b>T500</b>','<b>T1000</b>','<b>T1500</b>','<b>T2000</b>','<b>T5000</b>']\n",
        "\n",
        "bar = go.Figure(data=[\n",
        "    go.Bar(name='Brute Force', x=labels, y=means[0]),\n",
        "    go.Bar(name='BMH', x=labels, y=means[1]),\n",
        "    go.Bar(name='BMHS', x=labels, y=means[2]),\n",
        "    go.Bar(name='S.A Exactly', x=labels, y=means[3]),\n",
        "    go.Bar(name='S.A Approx K=1', x=labels, y=means[4]),\n",
        "    go.Bar(name='S.A Approx K=2', x=labels, y=means[5]),\n",
        "])\n",
        "\n",
        "# Change the bar mode\n",
        "bar.update_layout(\n",
        "    barmode='group',\n",
        "    title=\"Algoritmos de Casamento de Padrão\",\n",
        "    xaxis_title=\"Quantidade de Caracteres\",\n",
        "    yaxis_title=\"Tempo(ns)\",\n",
        "    font=dict(\n",
        "        family=\"Courier New, monospace\",\n",
        "        size=18,\n",
        "        color=\"RebeccaPurple\"\n",
        "    )\n",
        ")\n",
        "\n",
        "bar.show()"
      ],
      "metadata": {
        "colab": {
          "base_uri": "https://localhost:8080/",
          "height": 542
        },
        "id": "KgRZw7xIhwGL",
        "outputId": "501c7caa-11f8-4c55-dd89-4b8351bf50d3"
      },
      "execution_count": 270,
      "outputs": [
        {
          "output_type": "display_data",
          "data": {
            "text/html": [
              "<html>\n",
              "<head><meta charset=\"utf-8\" /></head>\n",
              "<body>\n",
              "    <div>            <script src=\"https://cdnjs.cloudflare.com/ajax/libs/mathjax/2.7.5/MathJax.js?config=TeX-AMS-MML_SVG\"></script><script type=\"text/javascript\">if (window.MathJax) {MathJax.Hub.Config({SVG: {font: \"STIX-Web\"}});}</script>                <script type=\"text/javascript\">window.PlotlyConfig = {MathJaxConfig: 'local'};</script>\n",
              "        <script src=\"https://cdn.plot.ly/plotly-2.8.3.min.js\"></script>                <div id=\"7db01e47-2a7a-4b13-b0f4-887330f2e6c8\" class=\"plotly-graph-div\" style=\"height:525px; width:100%;\"></div>            <script type=\"text/javascript\">                                    window.PLOTLYENV=window.PLOTLYENV || {};                                    if (document.getElementById(\"7db01e47-2a7a-4b13-b0f4-887330f2e6c8\")) {                    Plotly.newPlot(                        \"7db01e47-2a7a-4b13-b0f4-887330f2e6c8\",                        [{\"name\":\"Brute Force\",\"x\":[\"<b>T500</b>\",\"<b>T1000</b>\",\"<b>T1500</b>\",\"<b>T2000</b>\",\"<b>T5000</b>\"],\"y\":[9239.8,20744.1,26063.3,35403.9,87150.0],\"type\":\"bar\"},{\"name\":\"BMH\",\"x\":[\"<b>T500</b>\",\"<b>T1000</b>\",\"<b>T1500</b>\",\"<b>T2000</b>\",\"<b>T5000</b>\"],\"y\":[1452.9,2393.7,3377.0,4345.7,14119.9],\"type\":\"bar\"},{\"name\":\"BMHS\",\"x\":[\"<b>T500</b>\",\"<b>T1000</b>\",\"<b>T1500</b>\",\"<b>T2000</b>\",\"<b>T5000</b>\"],\"y\":[1389.8,2301.0,3111.9,4051.4,10871.1],\"type\":\"bar\"},{\"name\":\"S.A Exactly\",\"x\":[\"<b>T500</b>\",\"<b>T1000</b>\",\"<b>T1500</b>\",\"<b>T2000</b>\",\"<b>T5000</b>\"],\"y\":[10729.1,15381.8,20288.9,25282.9,55632.8],\"type\":\"bar\"},{\"name\":\"S.A Approx K=1\",\"x\":[\"<b>T500</b>\",\"<b>T1000</b>\",\"<b>T1500</b>\",\"<b>T2000</b>\",\"<b>T5000</b>\"],\"y\":[4089.2,7755.0,13901.8,15133.1,40078.1],\"type\":\"bar\"},{\"name\":\"S.A Approx K=2\",\"x\":[\"<b>T500</b>\",\"<b>T1000</b>\",\"<b>T1500</b>\",\"<b>T2000</b>\",\"<b>T5000</b>\"],\"y\":[6012.9,11920.2,17249.1,26261.8,56639.2],\"type\":\"bar\"}],                        {\"template\":{\"data\":{\"bar\":[{\"error_x\":{\"color\":\"#2a3f5f\"},\"error_y\":{\"color\":\"#2a3f5f\"},\"marker\":{\"line\":{\"color\":\"#E5ECF6\",\"width\":0.5},\"pattern\":{\"fillmode\":\"overlay\",\"size\":10,\"solidity\":0.2}},\"type\":\"bar\"}],\"barpolar\":[{\"marker\":{\"line\":{\"color\":\"#E5ECF6\",\"width\":0.5},\"pattern\":{\"fillmode\":\"overlay\",\"size\":10,\"solidity\":0.2}},\"type\":\"barpolar\"}],\"carpet\":[{\"aaxis\":{\"endlinecolor\":\"#2a3f5f\",\"gridcolor\":\"white\",\"linecolor\":\"white\",\"minorgridcolor\":\"white\",\"startlinecolor\":\"#2a3f5f\"},\"baxis\":{\"endlinecolor\":\"#2a3f5f\",\"gridcolor\":\"white\",\"linecolor\":\"white\",\"minorgridcolor\":\"white\",\"startlinecolor\":\"#2a3f5f\"},\"type\":\"carpet\"}],\"choropleth\":[{\"colorbar\":{\"outlinewidth\":0,\"ticks\":\"\"},\"type\":\"choropleth\"}],\"contour\":[{\"colorbar\":{\"outlinewidth\":0,\"ticks\":\"\"},\"colorscale\":[[0.0,\"#0d0887\"],[0.1111111111111111,\"#46039f\"],[0.2222222222222222,\"#7201a8\"],[0.3333333333333333,\"#9c179e\"],[0.4444444444444444,\"#bd3786\"],[0.5555555555555556,\"#d8576b\"],[0.6666666666666666,\"#ed7953\"],[0.7777777777777778,\"#fb9f3a\"],[0.8888888888888888,\"#fdca26\"],[1.0,\"#f0f921\"]],\"type\":\"contour\"}],\"contourcarpet\":[{\"colorbar\":{\"outlinewidth\":0,\"ticks\":\"\"},\"type\":\"contourcarpet\"}],\"heatmap\":[{\"colorbar\":{\"outlinewidth\":0,\"ticks\":\"\"},\"colorscale\":[[0.0,\"#0d0887\"],[0.1111111111111111,\"#46039f\"],[0.2222222222222222,\"#7201a8\"],[0.3333333333333333,\"#9c179e\"],[0.4444444444444444,\"#bd3786\"],[0.5555555555555556,\"#d8576b\"],[0.6666666666666666,\"#ed7953\"],[0.7777777777777778,\"#fb9f3a\"],[0.8888888888888888,\"#fdca26\"],[1.0,\"#f0f921\"]],\"type\":\"heatmap\"}],\"heatmapgl\":[{\"colorbar\":{\"outlinewidth\":0,\"ticks\":\"\"},\"colorscale\":[[0.0,\"#0d0887\"],[0.1111111111111111,\"#46039f\"],[0.2222222222222222,\"#7201a8\"],[0.3333333333333333,\"#9c179e\"],[0.4444444444444444,\"#bd3786\"],[0.5555555555555556,\"#d8576b\"],[0.6666666666666666,\"#ed7953\"],[0.7777777777777778,\"#fb9f3a\"],[0.8888888888888888,\"#fdca26\"],[1.0,\"#f0f921\"]],\"type\":\"heatmapgl\"}],\"histogram\":[{\"marker\":{\"pattern\":{\"fillmode\":\"overlay\",\"size\":10,\"solidity\":0.2}},\"type\":\"histogram\"}],\"histogram2d\":[{\"colorbar\":{\"outlinewidth\":0,\"ticks\":\"\"},\"colorscale\":[[0.0,\"#0d0887\"],[0.1111111111111111,\"#46039f\"],[0.2222222222222222,\"#7201a8\"],[0.3333333333333333,\"#9c179e\"],[0.4444444444444444,\"#bd3786\"],[0.5555555555555556,\"#d8576b\"],[0.6666666666666666,\"#ed7953\"],[0.7777777777777778,\"#fb9f3a\"],[0.8888888888888888,\"#fdca26\"],[1.0,\"#f0f921\"]],\"type\":\"histogram2d\"}],\"histogram2dcontour\":[{\"colorbar\":{\"outlinewidth\":0,\"ticks\":\"\"},\"colorscale\":[[0.0,\"#0d0887\"],[0.1111111111111111,\"#46039f\"],[0.2222222222222222,\"#7201a8\"],[0.3333333333333333,\"#9c179e\"],[0.4444444444444444,\"#bd3786\"],[0.5555555555555556,\"#d8576b\"],[0.6666666666666666,\"#ed7953\"],[0.7777777777777778,\"#fb9f3a\"],[0.8888888888888888,\"#fdca26\"],[1.0,\"#f0f921\"]],\"type\":\"histogram2dcontour\"}],\"mesh3d\":[{\"colorbar\":{\"outlinewidth\":0,\"ticks\":\"\"},\"type\":\"mesh3d\"}],\"parcoords\":[{\"line\":{\"colorbar\":{\"outlinewidth\":0,\"ticks\":\"\"}},\"type\":\"parcoords\"}],\"pie\":[{\"automargin\":true,\"type\":\"pie\"}],\"scatter\":[{\"marker\":{\"colorbar\":{\"outlinewidth\":0,\"ticks\":\"\"}},\"type\":\"scatter\"}],\"scatter3d\":[{\"line\":{\"colorbar\":{\"outlinewidth\":0,\"ticks\":\"\"}},\"marker\":{\"colorbar\":{\"outlinewidth\":0,\"ticks\":\"\"}},\"type\":\"scatter3d\"}],\"scattercarpet\":[{\"marker\":{\"colorbar\":{\"outlinewidth\":0,\"ticks\":\"\"}},\"type\":\"scattercarpet\"}],\"scattergeo\":[{\"marker\":{\"colorbar\":{\"outlinewidth\":0,\"ticks\":\"\"}},\"type\":\"scattergeo\"}],\"scattergl\":[{\"marker\":{\"colorbar\":{\"outlinewidth\":0,\"ticks\":\"\"}},\"type\":\"scattergl\"}],\"scattermapbox\":[{\"marker\":{\"colorbar\":{\"outlinewidth\":0,\"ticks\":\"\"}},\"type\":\"scattermapbox\"}],\"scatterpolar\":[{\"marker\":{\"colorbar\":{\"outlinewidth\":0,\"ticks\":\"\"}},\"type\":\"scatterpolar\"}],\"scatterpolargl\":[{\"marker\":{\"colorbar\":{\"outlinewidth\":0,\"ticks\":\"\"}},\"type\":\"scatterpolargl\"}],\"scatterternary\":[{\"marker\":{\"colorbar\":{\"outlinewidth\":0,\"ticks\":\"\"}},\"type\":\"scatterternary\"}],\"surface\":[{\"colorbar\":{\"outlinewidth\":0,\"ticks\":\"\"},\"colorscale\":[[0.0,\"#0d0887\"],[0.1111111111111111,\"#46039f\"],[0.2222222222222222,\"#7201a8\"],[0.3333333333333333,\"#9c179e\"],[0.4444444444444444,\"#bd3786\"],[0.5555555555555556,\"#d8576b\"],[0.6666666666666666,\"#ed7953\"],[0.7777777777777778,\"#fb9f3a\"],[0.8888888888888888,\"#fdca26\"],[1.0,\"#f0f921\"]],\"type\":\"surface\"}],\"table\":[{\"cells\":{\"fill\":{\"color\":\"#EBF0F8\"},\"line\":{\"color\":\"white\"}},\"header\":{\"fill\":{\"color\":\"#C8D4E3\"},\"line\":{\"color\":\"white\"}},\"type\":\"table\"}]},\"layout\":{\"annotationdefaults\":{\"arrowcolor\":\"#2a3f5f\",\"arrowhead\":0,\"arrowwidth\":1},\"autotypenumbers\":\"strict\",\"coloraxis\":{\"colorbar\":{\"outlinewidth\":0,\"ticks\":\"\"}},\"colorscale\":{\"diverging\":[[0,\"#8e0152\"],[0.1,\"#c51b7d\"],[0.2,\"#de77ae\"],[0.3,\"#f1b6da\"],[0.4,\"#fde0ef\"],[0.5,\"#f7f7f7\"],[0.6,\"#e6f5d0\"],[0.7,\"#b8e186\"],[0.8,\"#7fbc41\"],[0.9,\"#4d9221\"],[1,\"#276419\"]],\"sequential\":[[0.0,\"#0d0887\"],[0.1111111111111111,\"#46039f\"],[0.2222222222222222,\"#7201a8\"],[0.3333333333333333,\"#9c179e\"],[0.4444444444444444,\"#bd3786\"],[0.5555555555555556,\"#d8576b\"],[0.6666666666666666,\"#ed7953\"],[0.7777777777777778,\"#fb9f3a\"],[0.8888888888888888,\"#fdca26\"],[1.0,\"#f0f921\"]],\"sequentialminus\":[[0.0,\"#0d0887\"],[0.1111111111111111,\"#46039f\"],[0.2222222222222222,\"#7201a8\"],[0.3333333333333333,\"#9c179e\"],[0.4444444444444444,\"#bd3786\"],[0.5555555555555556,\"#d8576b\"],[0.6666666666666666,\"#ed7953\"],[0.7777777777777778,\"#fb9f3a\"],[0.8888888888888888,\"#fdca26\"],[1.0,\"#f0f921\"]]},\"colorway\":[\"#636efa\",\"#EF553B\",\"#00cc96\",\"#ab63fa\",\"#FFA15A\",\"#19d3f3\",\"#FF6692\",\"#B6E880\",\"#FF97FF\",\"#FECB52\"],\"font\":{\"color\":\"#2a3f5f\"},\"geo\":{\"bgcolor\":\"white\",\"lakecolor\":\"white\",\"landcolor\":\"#E5ECF6\",\"showlakes\":true,\"showland\":true,\"subunitcolor\":\"white\"},\"hoverlabel\":{\"align\":\"left\"},\"hovermode\":\"closest\",\"mapbox\":{\"style\":\"light\"},\"paper_bgcolor\":\"white\",\"plot_bgcolor\":\"#E5ECF6\",\"polar\":{\"angularaxis\":{\"gridcolor\":\"white\",\"linecolor\":\"white\",\"ticks\":\"\"},\"bgcolor\":\"#E5ECF6\",\"radialaxis\":{\"gridcolor\":\"white\",\"linecolor\":\"white\",\"ticks\":\"\"}},\"scene\":{\"xaxis\":{\"backgroundcolor\":\"#E5ECF6\",\"gridcolor\":\"white\",\"gridwidth\":2,\"linecolor\":\"white\",\"showbackground\":true,\"ticks\":\"\",\"zerolinecolor\":\"white\"},\"yaxis\":{\"backgroundcolor\":\"#E5ECF6\",\"gridcolor\":\"white\",\"gridwidth\":2,\"linecolor\":\"white\",\"showbackground\":true,\"ticks\":\"\",\"zerolinecolor\":\"white\"},\"zaxis\":{\"backgroundcolor\":\"#E5ECF6\",\"gridcolor\":\"white\",\"gridwidth\":2,\"linecolor\":\"white\",\"showbackground\":true,\"ticks\":\"\",\"zerolinecolor\":\"white\"}},\"shapedefaults\":{\"line\":{\"color\":\"#2a3f5f\"}},\"ternary\":{\"aaxis\":{\"gridcolor\":\"white\",\"linecolor\":\"white\",\"ticks\":\"\"},\"baxis\":{\"gridcolor\":\"white\",\"linecolor\":\"white\",\"ticks\":\"\"},\"bgcolor\":\"#E5ECF6\",\"caxis\":{\"gridcolor\":\"white\",\"linecolor\":\"white\",\"ticks\":\"\"}},\"title\":{\"x\":0.05},\"xaxis\":{\"automargin\":true,\"gridcolor\":\"white\",\"linecolor\":\"white\",\"ticks\":\"\",\"title\":{\"standoff\":15},\"zerolinecolor\":\"white\",\"zerolinewidth\":2},\"yaxis\":{\"automargin\":true,\"gridcolor\":\"white\",\"linecolor\":\"white\",\"ticks\":\"\",\"title\":{\"standoff\":15},\"zerolinecolor\":\"white\",\"zerolinewidth\":2}}},\"font\":{\"family\":\"Courier New, monospace\",\"size\":18,\"color\":\"RebeccaPurple\"},\"barmode\":\"group\",\"title\":{\"text\":\"Algoritmos de Casamento de Padr\\u00e3o\"},\"xaxis\":{\"title\":{\"text\":\"Quantidade de Caracteres\"}},\"yaxis\":{\"title\":{\"text\":\"Tempo(ns)\"}}},                        {\"responsive\": true}                    ).then(function(){\n",
              "                            \n",
              "var gd = document.getElementById('7db01e47-2a7a-4b13-b0f4-887330f2e6c8');\n",
              "var x = new MutationObserver(function (mutations, observer) {{\n",
              "        var display = window.getComputedStyle(gd).display;\n",
              "        if (!display || display === 'none') {{\n",
              "            console.log([gd, 'removed!']);\n",
              "            Plotly.purge(gd);\n",
              "            observer.disconnect();\n",
              "        }}\n",
              "}});\n",
              "\n",
              "// Listen for the removal of the full notebook cells\n",
              "var notebookContainer = gd.closest('#notebook-container');\n",
              "if (notebookContainer) {{\n",
              "    x.observe(notebookContainer, {childList: true});\n",
              "}}\n",
              "\n",
              "// Listen for the clearing of the current output cell\n",
              "var outputEl = gd.closest('.output');\n",
              "if (outputEl) {{\n",
              "    x.observe(outputEl, {childList: true});\n",
              "}}\n",
              "\n",
              "                        })                };                            </script>        </div>\n",
              "</body>\n",
              "</html>"
            ]
          },
          "metadata": {}
        }
      ]
    }
  ]
}