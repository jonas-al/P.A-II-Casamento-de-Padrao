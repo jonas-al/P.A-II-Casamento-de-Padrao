{
  "cells": [
    {
      "cell_type": "markdown",
      "metadata": {
        "id": "-gTP839mWIPx"
      },
      "source": [
        "#Configurações da Plataforma"
      ]
    },
    {
      "cell_type": "code",
      "execution_count": 271,
      "metadata": {
        "colab": {
          "base_uri": "https://localhost:8080/"
        },
        "id": "ZNPYMNtaGXfb",
        "outputId": "5358e157-26f5-40ee-daf1-f23ee8b5f227"
      },
      "outputs": [
        {
          "name": "stdout",
          "output_type": "stream",
          "text": [
            "CPU: Intel(R) Xeon(R) CPU @ 2.20GHz\n",
            "RAM: 12.68 GB\n",
            "Disco: 107.72 GB\n",
            "Versão do compilador: 3.8.16 (default, Dec  7 2022, 01:12:13) \n",
            "[GCC 7.5.0]\n",
            "Sistema operacional: linux\n"
          ]
        }
      ],
      "source": [
        "import sys\n",
        "import platform\n",
        "import psutil\n",
        "import subprocess\n",
        "\n",
        "print(\"CPU: Intel(R) Xeon(R) CPU @ 2.20GHz\\n\"\n",
        "      f\"RAM: 12.68 GB\\n\"\n",
        "      f\"Disco: 107.72 GB\\n\"\n",
        "      f\"Versão do compilador: {sys.version}\\n\"\n",
        "      f\"Sistema operacional: {sys.platform}\")"
      ]
    },
    {
      "attachments": {},
      "cell_type": "markdown",
      "metadata": {
        "id": "bF50DyRTWOJp"
      },
      "source": [
        "#Implementação dos Algoritmos\n",
        "\n",
        "Para visualizar os resultados de execução dos algoritmos, por favor, retire os comentários do cout de cada algoritmo."
      ]
    },
    {
      "cell_type": "code",
      "execution_count": 272,
      "metadata": {
        "colab": {
          "base_uri": "https://localhost:8080/"
        },
        "id": "C58AzC2xL6vC",
        "outputId": "20e263f4-1b08-4650-f125-fcc6849d4bfa"
      },
      "outputs": [
        {
          "name": "stdout",
          "output_type": "stream",
          "text": [
            "Overwriting main.cpp\n"
          ]
        }
      ],
      "source": [
        "%%writefile main.cpp\n",
        "\n",
        "#include <iostream>\n",
        "#include <fstream>\n",
        "#include <string>\n",
        "#include <chrono>\n",
        "#include <vector>\n",
        "#include <bits/stdc++.h>\n",
        "using namespace std;\n",
        "\n",
        "int b[128];\n",
        "const int ALPHABET_SIZE = 256;\n",
        "static long MAXCHAR = 256;\n",
        "\n",
        "int bruteForce(string pattern, string text) {\n",
        "    for(int i = 0; i < text.length() - pattern.length() + 1; i++) {\n",
        "        int j = 0;\n",
        "        while (j < pattern.length() && text[i+j] == pattern[j]) {\n",
        "            j += 1;\n",
        "        }\n",
        "        if (j == pattern.length()) {\n",
        "            j = 0;\n",
        "            //cout<<\"bruteForce -> Casou em: \"<<i<<endl;        //Para visualizar as saídas retire o // ou o /**/ do cout!!\n",
        "        }\n",
        "    }\n",
        "}\n",
        "\n",
        "void shiftAnd(string text, string pattern){\n",
        "    vector<int> masks;\n",
        "    int state;\n",
        "    for(int i = 0; i < 256; i++){\n",
        "        masks.push_back(0);\n",
        "    }\n",
        "    \n",
        "    for(int i = 0; i < pattern.size(); i++){\n",
        "        masks[__toascii(pattern[i])] |= 1 << i;\n",
        "    }\n",
        "    \n",
        "    state = 0;\n",
        "    \n",
        "    for(int i = 0; i < text.size(); i++){\n",
        "        state = ((state << 1) | 1) & masks[__toascii(text[i])];\n",
        "        if(state & (1 << (pattern.size()-1))){\n",
        "            //cout<<\"shiftAnd -> Casou em: \"<<i - pattern.size() + 2<<endl;      //Para visualizar as saídas retire o // ou o /**/ do cout!!\n",
        "            continue;\n",
        "        }\n",
        "    }\n",
        "}\n",
        "\n",
        "void BMH(string T,string P){\n",
        "    long n = T.length();\n",
        "    long m = P.length();\n",
        "\n",
        "    long i, j, k, d[MAXCHAR + 1];\n",
        "    for(j=0;j<=MAXCHAR; j++)d[j] = m;\n",
        "    for(j=1;j<m;j++)d[P[j-1]] = m-j;\n",
        "    i=m;\n",
        "    while(i<=n){\n",
        "        k=i;\n",
        "        j=m;\n",
        "        while(T[k-1]==P[j-1] && j>0){\n",
        "            k--;j--;\n",
        "        }\n",
        "        if(j==0) /*cout<<\"BMH -> Casou em: \"<<k+1<<endl*/;      //Para visualizar as saídas retire o // ou o /**/ do cout!!\n",
        "        i+=d[T[i-1]];\n",
        "    }\n",
        "}\n",
        "\n",
        "void BMHS(string T, string P){\n",
        "    long n = T.length();\n",
        "    long m = P.length();\n",
        "\n",
        "    long i, j, k, d[MAXCHAR + 1];\n",
        "    for(j=0;j<=MAXCHAR;j++)d[j]=m+1;\n",
        "    for(j=1;j<=m;j++)d[P[j-1]]=m-j+1;\n",
        "    i=m;\n",
        "    while(i<=n){\n",
        "        k=i;\n",
        "        j=m;\n",
        "        while(T[k-1]==P[j-1] && j>0){k--;j--;}\n",
        "        if(j==0)\n",
        "        /*cout<<\"BMHS -> Casou em: \"<<k+1<<endl*/;      //Para visualizar as saídas retire o // ou o /**/ do cout!!\n",
        "        i+=d[T[i]];\n",
        "    }\n",
        "}\n",
        "\n",
        "void shiftAndApprox(string T, string P, long k){\n",
        "    long n = T.length();\n",
        "    long m = P.length();\n",
        "\n",
        "    long Masc[MAXCHAR],i,j,Ri,Rant,Rnovo;\n",
        "    long R[2+1];\n",
        "    for(i=0;i<MAXCHAR;i++)Masc[i]=0;\n",
        "    for(i=1;i<=m;i++){Masc[P[i-1] + 127] |= 1 << (m-i);}\n",
        "    R[0] = 0; Ri = 1 << (m-1);\n",
        "    for(j=1;j<=k;j++)R[j]=(1 << (m-j)) | R[j-1];\n",
        "    for(i=0;i<n;i++){\n",
        "        Rant= R[0];\n",
        "        Rnovo = ((((unsigned long)Rant) >> 1) | Ri) & Masc[T[i] + 127];\n",
        "        R[0] = Rnovo;\n",
        "        for(j=1;j<=k;j++){\n",
        "            Rnovo=((((unsigned long)R[j]) >> 1) & Masc[T[i]+127]) | Rant |(((unsigned long)(Rant | Rnovo)) >> 1 );\n",
        "            Rant= R[j];R[j]= Rnovo | Ri;\n",
        "        }\n",
        "        if((Rnovo & 1) != 0) /*cout<<\"SAA \" << \"K = \" << k <<\" -> Casou em: \"<<i<<endl*/;     //Para visualizar as saídas retire o // ou o /**/ do cout!!\n",
        "    }\n",
        "}\n",
        "\n",
        "int main() {\n",
        "    // LENDO ARQUIVOS DE TEXTO\n",
        "    ifstream file(\"T_500.txt\");\n",
        "    string T500;\n",
        "    T500 = string((istreambuf_iterator<char>(file)), istreambuf_iterator<char>());\n",
        "    file.close();\n",
        "\n",
        "    ifstream file2(\"T_1000.txt\");\n",
        "    string T1000;\n",
        "    T1000 = string((istreambuf_iterator<char>(file2)), istreambuf_iterator<char>());\n",
        "    file2.close();\n",
        "\n",
        "    ifstream file3(\"T_1500.txt\");\n",
        "    string T1500;\n",
        "    T1500 = string((istreambuf_iterator<char>(file3)), istreambuf_iterator<char>());\n",
        "    file3.close();\n",
        "\n",
        "    ifstream file4(\"T_2000.txt\");\n",
        "    string T2000;\n",
        "    T2000 = string((istreambuf_iterator<char>(file4)), istreambuf_iterator<char>());\n",
        "    file4.close();\n",
        "\n",
        "    ifstream file5(\"T_5000.txt\");\n",
        "    string T5000;\n",
        "    T5000 = string((istreambuf_iterator<char>(file5)), istreambuf_iterator<char>());\n",
        "    file5.close();\n",
        "\n",
        "    // CRIA VETOR COM OS TEXTOS\n",
        "    string textos[5] = {T500, T1000, T1500, T2000, T5000};\n",
        "\n",
        "    // INICIALIZAÇÃO DOS VETORES QUE IRAM ARMAZENAR AS MÉDIAS\n",
        "    vector<double> brutal_force, bmh, bmhs, shift_and, shift_and_aprox_k1, shift_and_aprox_k2;\n",
        "    for(int i = 0; i < 5; i++){\n",
        "      brutal_force.push_back(0);\n",
        "      bmh.push_back(0);\n",
        "      bmhs.push_back(0);\n",
        "      shift_and.push_back(0);\n",
        "      shift_and_aprox_k1.push_back(0);\n",
        "      shift_and_aprox_k2.push_back(0);\n",
        "    }\n",
        "    \n",
        "    // CRIANDO O ARQUIVO CSV\n",
        "    ofstream myfile(\"Output.csv\");\n",
        "    myfile << \"alg,T500,T1000,T1500,T2000,T5000\\n\";\n",
        "\n",
        "    // EXECUTANDO OS ALGORITMOS 10 VEZES PARA CADA CASO DE TESTE: T500, T1000, T1500, T2000, T5000...\n",
        "    std::chrono::time_point<std::chrono::system_clock> start, end;\n",
        "    std::chrono::duration<double> elapsed_seconds;\n",
        "    string P = \"dolor\"; // PALAVRA P QUE SERÁ BUSCADA PELOS ALGORITMOS\n",
        "\n",
        "    for(int k = 0; k < 10; k++){\n",
        "        for(int i = 0; i < 5; i++){\n",
        "          start = std::chrono::system_clock::now();\n",
        "          bruteForce(P, textos[i]); ////////////////\n",
        "          end = std::chrono::system_clock::now();\n",
        "          elapsed_seconds = end - start;\n",
        "          std::time_t end_time = std::chrono::system_clock::to_time_t(end);\n",
        "          /*std::cout << \"finished computation at \" << std::ctime(&end_time)\n",
        "                    << \"elapsed time: \" << chrono::duration_cast<chrono::nanoseconds>(elapsed_seconds).count() << \"s\\n\";*/\n",
        "          brutal_force[i] += (chrono::duration_cast<chrono::nanoseconds>(elapsed_seconds).count());\n",
        "\n",
        "          start = std::chrono::system_clock::now();\n",
        "          BMH(textos[i], P); /////////////////////\n",
        "          end = std::chrono::system_clock::now();\n",
        "          elapsed_seconds = end - start;\n",
        "          end_time = std::chrono::system_clock::to_time_t(end);\n",
        "          bmh[i] += (chrono::duration_cast<chrono::nanoseconds>(elapsed_seconds).count());\n",
        "\n",
        "          start = std::chrono::system_clock::now();\n",
        "          BMHS(textos[i], P); /////////////////////\n",
        "          end = std::chrono::system_clock::now();\n",
        "          elapsed_seconds = end - start;\n",
        "          end_time = std::chrono::system_clock::to_time_t(end);\n",
        "          bmhs[i] += (chrono::duration_cast<chrono::nanoseconds>(elapsed_seconds).count());\n",
        "\n",
        "          start = std::chrono::system_clock::now();\n",
        "          shiftAnd(textos[i], P); /////////////////////\n",
        "          end = std::chrono::system_clock::now();\n",
        "          elapsed_seconds = end - start;\n",
        "          end_time = std::chrono::system_clock::to_time_t(end);\n",
        "          shift_and[i] += (chrono::duration_cast<chrono::nanoseconds>(elapsed_seconds).count());\n",
        "\n",
        "          start = std::chrono::system_clock::now();\n",
        "          shiftAndApprox(textos[i], P, 1); /////////////////////\n",
        "          end = std::chrono::system_clock::now();\n",
        "          elapsed_seconds = end - start;\n",
        "          end_time = std::chrono::system_clock::to_time_t(end);\n",
        "          shift_and_aprox_k1[i] += (chrono::duration_cast<chrono::nanoseconds>(elapsed_seconds).count());\n",
        "\n",
        "          start = std::chrono::system_clock::now();\n",
        "          shiftAndApprox(textos[i], P, 2); /////////////////////\n",
        "          end = std::chrono::system_clock::now();\n",
        "          elapsed_seconds = end - start;\n",
        "          end_time = std::chrono::system_clock::to_time_t(end);\n",
        "          shift_and_aprox_k2[i] += (chrono::duration_cast<chrono::nanoseconds>(elapsed_seconds).count());\n",
        "        }\n",
        "    }\n",
        "\n",
        "    // CALCULANDO A MÉDIA DO TEMPO DE EXECUÇÃO DE CADA ALGORITMO\n",
        "    for(int i = 0; i < 5; i++){\n",
        "      brutal_force[i] = brutal_force[i]/10;\n",
        "      bmh[i] = bmh[i]/10;\n",
        "      bmhs[i] = bmhs[i]/10;\n",
        "      shift_and[i] = shift_and[i]/10;\n",
        "      shift_and_aprox_k1[i] = shift_and_aprox_k1[i]/10;\n",
        "      shift_and_aprox_k2[i] = shift_and_aprox_k2[i]/10;\n",
        "    }\n",
        "    \n",
        "\n",
        "    // INSERINDO OS DADOS NO CSV\n",
        "    // ============================= FORÇA BRUTA ======================================  \n",
        "    myfile << \"Brute Force\";\n",
        "    for(int i = 0; i < 5; i++){\n",
        "      myfile << \",\" << brutal_force[i];\n",
        "      cout << brutal_force[i] << \" | \";\n",
        "    }\n",
        "    myfile << \"\\n\";\n",
        "\n",
        "    cout << '\\n';\n",
        "    \n",
        "    // ============================== BMH ====================================== \n",
        "    myfile << \"BMH\";\n",
        "    for(int i = 0; i < 5; i++){\n",
        "      myfile << \",\" << bmh[i];\n",
        "      cout << bmh[i] << \" | \";\n",
        "    }\n",
        "    myfile << \"\\n\";\n",
        "\n",
        "    cout << '\\n';\n",
        "    \n",
        "    // ============================== BMHS ====================================== \n",
        "    myfile << \"BMHS\";\n",
        "    for(int i = 0; i < 5; i++){\n",
        "      myfile << \",\" << bmhs[i];\n",
        "      cout << bmhs[i] << \" | \";\n",
        "    }\n",
        "    myfile << \"\\n\";\n",
        "\n",
        "    cout << '\\n';\n",
        "    \n",
        "    // ============================== SHIFT AND ====================================== \n",
        "    myfile << \"Shift And\";\n",
        "    for(int i = 0; i < 5; i++){\n",
        "      myfile << \",\" << shift_and[i];\n",
        "      cout << shift_and[i] << \" | \";\n",
        "    }\n",
        "    myfile << \"\\n\";\n",
        "\n",
        "    cout << '\\n';\n",
        "    \n",
        "    // ============================== SHIFT AND APROX K1 ======================================\n",
        "    myfile << \"Shift And k1\";\n",
        "    for(int i = 0; i < 5; i++){\n",
        "      myfile << \",\" << shift_and_aprox_k1[i];\n",
        "      cout << shift_and_aprox_k1[i] << \" | \";\n",
        "    }\n",
        "    myfile << \"\\n\";\n",
        "\n",
        "    cout << '\\n';\n",
        "\n",
        "    // ============================== SHIFT AND APROX K2 ======================================\n",
        "    myfile << \"Shift And k2\";\n",
        "    for(int i = 0; i < 5; i++){\n",
        "      myfile << \",\" << shift_and_aprox_k2[i];\n",
        "      cout << shift_and_aprox_k2[i] << \" | \";\n",
        "    }\n",
        "    myfile << \"\\n\";\n",
        "\n",
        "    myfile.close();\n",
        "    return 0;\n",
        "}"
      ]
    },
    {
      "cell_type": "code",
      "execution_count": 273,
      "metadata": {
        "colab": {
          "base_uri": "https://localhost:8080/"
        },
        "id": "XEtkHfb0L6Km",
        "outputId": "af42c8e0-e07f-47d6-d972-eab03216ef9a"
      },
      "outputs": [
        {
          "name": "stdout",
          "output_type": "stream",
          "text": [
            "8887 | 17777 | 26143 | 39306 | 97557 | \n",
            "3303 | 3558 | 5005 | 4489 | 10637 | \n",
            "1349 | 2305 | 3199 | 4075.8 | 10182 | \n",
            "11485 | 15750.8 | 20741 | 25169 | 56299 | \n",
            "4099 | 7777 | 13497 | 16112 | 40002 | \n",
            "9693 | 12782 | 20130 | 22728 | 57286 | "
          ]
        },
        {
          "data": {
            "text/plain": []
          },
          "execution_count": 273,
          "metadata": {},
          "output_type": "execute_result"
        }
      ],
      "source": [
        "%%shell\n",
        "\n",
        "g++ main.cpp -o main\n",
        "./main"
      ]
    },
    {
      "cell_type": "markdown",
      "metadata": {
        "id": "UznjNmfzWgDY"
      },
      "source": [
        "#Plotagem dos Gráficos e Tabelas"
      ]
    },
    {
      "cell_type": "code",
      "execution_count": 274,
      "metadata": {
        "id": "33zT8PvDLuwX"
      },
      "outputs": [],
      "source": [
        "import numpy as np\n",
        "import pandas as pd\n",
        "import plotly.graph_objects as go"
      ]
    },
    {
      "cell_type": "code",
      "execution_count": 275,
      "metadata": {
        "id": "9O2sWT8pPWaS"
      },
      "outputs": [],
      "source": [
        "df = pd.read_csv('Output.csv')\n",
        "means = []\n",
        "for i in df.iterrows():\n",
        "    means.append(i[1][1:6].tolist())\n",
        "\n",
        "labels = ['500','1000','1500','2000','5000']\n",
        "columns = ['Brute Force','BMH','BMHS','S.A Exactly','S.A Approx K=1','S.A Approx K=2']"
      ]
    },
    {
      "cell_type": "code",
      "execution_count": 276,
      "metadata": {
        "colab": {
          "base_uri": "https://localhost:8080/",
          "height": 817
        },
        "id": "35Qa9-vnt8ow",
        "outputId": "d7765ebe-950e-4e55-8287-7cca915fc9ea"
      },
      "outputs": [
        {
          "data": {
            "text/html": [
              "<html>\n",
              "<head><meta charset=\"utf-8\" /></head>\n",
              "<body>\n",
              "    <div>            <script src=\"https://cdnjs.cloudflare.com/ajax/libs/mathjax/2.7.5/MathJax.js?config=TeX-AMS-MML_SVG\"></script><script type=\"text/javascript\">if (window.MathJax) {MathJax.Hub.Config({SVG: {font: \"STIX-Web\"}});}</script>                <script type=\"text/javascript\">window.PlotlyConfig = {MathJaxConfig: 'local'};</script>\n",
              "        <script src=\"https://cdn.plot.ly/plotly-2.8.3.min.js\"></script>                <div id=\"9409876d-2982-4fed-9555-d7f58a758a4c\" class=\"plotly-graph-div\" style=\"height:800px; width:1400px;\"></div>            <script type=\"text/javascript\">                                    window.PLOTLYENV=window.PLOTLYENV || {};                                    if (document.getElementById(\"9409876d-2982-4fed-9555-d7f58a758a4c\")) {                    Plotly.newPlot(                        \"9409876d-2982-4fed-9555-d7f58a758a4c\",                        [{\"mode\":\"lines\",\"name\":\"Brute Force\",\"x\":[\"500\",\"1000\",\"1500\",\"2000\",\"5000\"],\"y\":[8887,17777.0,26143,39306.0,97557],\"type\":\"scatter\"},{\"mode\":\"lines\",\"name\":\"BMH\",\"x\":[\"500\",\"1000\",\"1500\",\"2000\",\"5000\"],\"y\":[3303,3558.0,5005,4489.0,10637],\"type\":\"scatter\"},{\"mode\":\"lines\",\"name\":\"BMHS\",\"x\":[\"500\",\"1000\",\"1500\",\"2000\",\"5000\"],\"y\":[1349,2305.0,3199,4075.8,10182],\"type\":\"scatter\"},{\"mode\":\"lines\",\"name\":\"S.A Exactly\",\"x\":[\"500\",\"1000\",\"1500\",\"2000\",\"5000\"],\"y\":[11485,15750.8,20741,25169.0,56299],\"type\":\"scatter\"},{\"mode\":\"lines\",\"name\":\"S.A Approx K=1\",\"x\":[\"500\",\"1000\",\"1500\",\"2000\",\"5000\"],\"y\":[4099,7777.0,13497,16112.0,40002],\"type\":\"scatter\"},{\"mode\":\"lines\",\"name\":\"S.A Approx K=2\",\"x\":[\"500\",\"1000\",\"1500\",\"2000\",\"5000\"],\"y\":[9693,12782.0,20130,22728.0,57286],\"type\":\"scatter\"}],                        {\"template\":{\"data\":{\"bar\":[{\"error_x\":{\"color\":\"#2a3f5f\"},\"error_y\":{\"color\":\"#2a3f5f\"},\"marker\":{\"line\":{\"color\":\"#E5ECF6\",\"width\":0.5},\"pattern\":{\"fillmode\":\"overlay\",\"size\":10,\"solidity\":0.2}},\"type\":\"bar\"}],\"barpolar\":[{\"marker\":{\"line\":{\"color\":\"#E5ECF6\",\"width\":0.5},\"pattern\":{\"fillmode\":\"overlay\",\"size\":10,\"solidity\":0.2}},\"type\":\"barpolar\"}],\"carpet\":[{\"aaxis\":{\"endlinecolor\":\"#2a3f5f\",\"gridcolor\":\"white\",\"linecolor\":\"white\",\"minorgridcolor\":\"white\",\"startlinecolor\":\"#2a3f5f\"},\"baxis\":{\"endlinecolor\":\"#2a3f5f\",\"gridcolor\":\"white\",\"linecolor\":\"white\",\"minorgridcolor\":\"white\",\"startlinecolor\":\"#2a3f5f\"},\"type\":\"carpet\"}],\"choropleth\":[{\"colorbar\":{\"outlinewidth\":0,\"ticks\":\"\"},\"type\":\"choropleth\"}],\"contour\":[{\"colorbar\":{\"outlinewidth\":0,\"ticks\":\"\"},\"colorscale\":[[0.0,\"#0d0887\"],[0.1111111111111111,\"#46039f\"],[0.2222222222222222,\"#7201a8\"],[0.3333333333333333,\"#9c179e\"],[0.4444444444444444,\"#bd3786\"],[0.5555555555555556,\"#d8576b\"],[0.6666666666666666,\"#ed7953\"],[0.7777777777777778,\"#fb9f3a\"],[0.8888888888888888,\"#fdca26\"],[1.0,\"#f0f921\"]],\"type\":\"contour\"}],\"contourcarpet\":[{\"colorbar\":{\"outlinewidth\":0,\"ticks\":\"\"},\"type\":\"contourcarpet\"}],\"heatmap\":[{\"colorbar\":{\"outlinewidth\":0,\"ticks\":\"\"},\"colorscale\":[[0.0,\"#0d0887\"],[0.1111111111111111,\"#46039f\"],[0.2222222222222222,\"#7201a8\"],[0.3333333333333333,\"#9c179e\"],[0.4444444444444444,\"#bd3786\"],[0.5555555555555556,\"#d8576b\"],[0.6666666666666666,\"#ed7953\"],[0.7777777777777778,\"#fb9f3a\"],[0.8888888888888888,\"#fdca26\"],[1.0,\"#f0f921\"]],\"type\":\"heatmap\"}],\"heatmapgl\":[{\"colorbar\":{\"outlinewidth\":0,\"ticks\":\"\"},\"colorscale\":[[0.0,\"#0d0887\"],[0.1111111111111111,\"#46039f\"],[0.2222222222222222,\"#7201a8\"],[0.3333333333333333,\"#9c179e\"],[0.4444444444444444,\"#bd3786\"],[0.5555555555555556,\"#d8576b\"],[0.6666666666666666,\"#ed7953\"],[0.7777777777777778,\"#fb9f3a\"],[0.8888888888888888,\"#fdca26\"],[1.0,\"#f0f921\"]],\"type\":\"heatmapgl\"}],\"histogram\":[{\"marker\":{\"pattern\":{\"fillmode\":\"overlay\",\"size\":10,\"solidity\":0.2}},\"type\":\"histogram\"}],\"histogram2d\":[{\"colorbar\":{\"outlinewidth\":0,\"ticks\":\"\"},\"colorscale\":[[0.0,\"#0d0887\"],[0.1111111111111111,\"#46039f\"],[0.2222222222222222,\"#7201a8\"],[0.3333333333333333,\"#9c179e\"],[0.4444444444444444,\"#bd3786\"],[0.5555555555555556,\"#d8576b\"],[0.6666666666666666,\"#ed7953\"],[0.7777777777777778,\"#fb9f3a\"],[0.8888888888888888,\"#fdca26\"],[1.0,\"#f0f921\"]],\"type\":\"histogram2d\"}],\"histogram2dcontour\":[{\"colorbar\":{\"outlinewidth\":0,\"ticks\":\"\"},\"colorscale\":[[0.0,\"#0d0887\"],[0.1111111111111111,\"#46039f\"],[0.2222222222222222,\"#7201a8\"],[0.3333333333333333,\"#9c179e\"],[0.4444444444444444,\"#bd3786\"],[0.5555555555555556,\"#d8576b\"],[0.6666666666666666,\"#ed7953\"],[0.7777777777777778,\"#fb9f3a\"],[0.8888888888888888,\"#fdca26\"],[1.0,\"#f0f921\"]],\"type\":\"histogram2dcontour\"}],\"mesh3d\":[{\"colorbar\":{\"outlinewidth\":0,\"ticks\":\"\"},\"type\":\"mesh3d\"}],\"parcoords\":[{\"line\":{\"colorbar\":{\"outlinewidth\":0,\"ticks\":\"\"}},\"type\":\"parcoords\"}],\"pie\":[{\"automargin\":true,\"type\":\"pie\"}],\"scatter\":[{\"marker\":{\"colorbar\":{\"outlinewidth\":0,\"ticks\":\"\"}},\"type\":\"scatter\"}],\"scatter3d\":[{\"line\":{\"colorbar\":{\"outlinewidth\":0,\"ticks\":\"\"}},\"marker\":{\"colorbar\":{\"outlinewidth\":0,\"ticks\":\"\"}},\"type\":\"scatter3d\"}],\"scattercarpet\":[{\"marker\":{\"colorbar\":{\"outlinewidth\":0,\"ticks\":\"\"}},\"type\":\"scattercarpet\"}],\"scattergeo\":[{\"marker\":{\"colorbar\":{\"outlinewidth\":0,\"ticks\":\"\"}},\"type\":\"scattergeo\"}],\"scattergl\":[{\"marker\":{\"colorbar\":{\"outlinewidth\":0,\"ticks\":\"\"}},\"type\":\"scattergl\"}],\"scattermapbox\":[{\"marker\":{\"colorbar\":{\"outlinewidth\":0,\"ticks\":\"\"}},\"type\":\"scattermapbox\"}],\"scatterpolar\":[{\"marker\":{\"colorbar\":{\"outlinewidth\":0,\"ticks\":\"\"}},\"type\":\"scatterpolar\"}],\"scatterpolargl\":[{\"marker\":{\"colorbar\":{\"outlinewidth\":0,\"ticks\":\"\"}},\"type\":\"scatterpolargl\"}],\"scatterternary\":[{\"marker\":{\"colorbar\":{\"outlinewidth\":0,\"ticks\":\"\"}},\"type\":\"scatterternary\"}],\"surface\":[{\"colorbar\":{\"outlinewidth\":0,\"ticks\":\"\"},\"colorscale\":[[0.0,\"#0d0887\"],[0.1111111111111111,\"#46039f\"],[0.2222222222222222,\"#7201a8\"],[0.3333333333333333,\"#9c179e\"],[0.4444444444444444,\"#bd3786\"],[0.5555555555555556,\"#d8576b\"],[0.6666666666666666,\"#ed7953\"],[0.7777777777777778,\"#fb9f3a\"],[0.8888888888888888,\"#fdca26\"],[1.0,\"#f0f921\"]],\"type\":\"surface\"}],\"table\":[{\"cells\":{\"fill\":{\"color\":\"#EBF0F8\"},\"line\":{\"color\":\"white\"}},\"header\":{\"fill\":{\"color\":\"#C8D4E3\"},\"line\":{\"color\":\"white\"}},\"type\":\"table\"}]},\"layout\":{\"annotationdefaults\":{\"arrowcolor\":\"#2a3f5f\",\"arrowhead\":0,\"arrowwidth\":1},\"autotypenumbers\":\"strict\",\"coloraxis\":{\"colorbar\":{\"outlinewidth\":0,\"ticks\":\"\"}},\"colorscale\":{\"diverging\":[[0,\"#8e0152\"],[0.1,\"#c51b7d\"],[0.2,\"#de77ae\"],[0.3,\"#f1b6da\"],[0.4,\"#fde0ef\"],[0.5,\"#f7f7f7\"],[0.6,\"#e6f5d0\"],[0.7,\"#b8e186\"],[0.8,\"#7fbc41\"],[0.9,\"#4d9221\"],[1,\"#276419\"]],\"sequential\":[[0.0,\"#0d0887\"],[0.1111111111111111,\"#46039f\"],[0.2222222222222222,\"#7201a8\"],[0.3333333333333333,\"#9c179e\"],[0.4444444444444444,\"#bd3786\"],[0.5555555555555556,\"#d8576b\"],[0.6666666666666666,\"#ed7953\"],[0.7777777777777778,\"#fb9f3a\"],[0.8888888888888888,\"#fdca26\"],[1.0,\"#f0f921\"]],\"sequentialminus\":[[0.0,\"#0d0887\"],[0.1111111111111111,\"#46039f\"],[0.2222222222222222,\"#7201a8\"],[0.3333333333333333,\"#9c179e\"],[0.4444444444444444,\"#bd3786\"],[0.5555555555555556,\"#d8576b\"],[0.6666666666666666,\"#ed7953\"],[0.7777777777777778,\"#fb9f3a\"],[0.8888888888888888,\"#fdca26\"],[1.0,\"#f0f921\"]]},\"colorway\":[\"#636efa\",\"#EF553B\",\"#00cc96\",\"#ab63fa\",\"#FFA15A\",\"#19d3f3\",\"#FF6692\",\"#B6E880\",\"#FF97FF\",\"#FECB52\"],\"font\":{\"color\":\"#2a3f5f\"},\"geo\":{\"bgcolor\":\"white\",\"lakecolor\":\"white\",\"landcolor\":\"#E5ECF6\",\"showlakes\":true,\"showland\":true,\"subunitcolor\":\"white\"},\"hoverlabel\":{\"align\":\"left\"},\"hovermode\":\"closest\",\"mapbox\":{\"style\":\"light\"},\"paper_bgcolor\":\"white\",\"plot_bgcolor\":\"#E5ECF6\",\"polar\":{\"angularaxis\":{\"gridcolor\":\"white\",\"linecolor\":\"white\",\"ticks\":\"\"},\"bgcolor\":\"#E5ECF6\",\"radialaxis\":{\"gridcolor\":\"white\",\"linecolor\":\"white\",\"ticks\":\"\"}},\"scene\":{\"xaxis\":{\"backgroundcolor\":\"#E5ECF6\",\"gridcolor\":\"white\",\"gridwidth\":2,\"linecolor\":\"white\",\"showbackground\":true,\"ticks\":\"\",\"zerolinecolor\":\"white\"},\"yaxis\":{\"backgroundcolor\":\"#E5ECF6\",\"gridcolor\":\"white\",\"gridwidth\":2,\"linecolor\":\"white\",\"showbackground\":true,\"ticks\":\"\",\"zerolinecolor\":\"white\"},\"zaxis\":{\"backgroundcolor\":\"#E5ECF6\",\"gridcolor\":\"white\",\"gridwidth\":2,\"linecolor\":\"white\",\"showbackground\":true,\"ticks\":\"\",\"zerolinecolor\":\"white\"}},\"shapedefaults\":{\"line\":{\"color\":\"#2a3f5f\"}},\"ternary\":{\"aaxis\":{\"gridcolor\":\"white\",\"linecolor\":\"white\",\"ticks\":\"\"},\"baxis\":{\"gridcolor\":\"white\",\"linecolor\":\"white\",\"ticks\":\"\"},\"bgcolor\":\"#E5ECF6\",\"caxis\":{\"gridcolor\":\"white\",\"linecolor\":\"white\",\"ticks\":\"\"}},\"title\":{\"x\":0.05},\"xaxis\":{\"automargin\":true,\"gridcolor\":\"white\",\"linecolor\":\"white\",\"ticks\":\"\",\"title\":{\"standoff\":15},\"zerolinecolor\":\"white\",\"zerolinewidth\":2},\"yaxis\":{\"automargin\":true,\"gridcolor\":\"white\",\"linecolor\":\"white\",\"ticks\":\"\",\"title\":{\"standoff\":15},\"zerolinecolor\":\"white\",\"zerolinewidth\":2}}},\"font\":{\"family\":\"Courier New, monospace\",\"size\":18,\"color\":\"RebeccaPurple\"},\"title\":{\"text\":\"Algoritmos de Casamento de Padr\\u00e3o\"},\"xaxis\":{\"title\":{\"text\":\"Quantidade de Caracteres\"}},\"yaxis\":{\"title\":{\"text\":\"Tempo(ns)\"}},\"width\":1400,\"height\":800},                        {\"responsive\": true}                    ).then(function(){\n",
              "                            \n",
              "var gd = document.getElementById('9409876d-2982-4fed-9555-d7f58a758a4c');\n",
              "var x = new MutationObserver(function (mutations, observer) {{\n",
              "        var display = window.getComputedStyle(gd).display;\n",
              "        if (!display || display === 'none') {{\n",
              "            console.log([gd, 'removed!']);\n",
              "            Plotly.purge(gd);\n",
              "            observer.disconnect();\n",
              "        }}\n",
              "}});\n",
              "\n",
              "// Listen for the removal of the full notebook cells\n",
              "var notebookContainer = gd.closest('#notebook-container');\n",
              "if (notebookContainer) {{\n",
              "    x.observe(notebookContainer, {childList: true});\n",
              "}}\n",
              "\n",
              "// Listen for the clearing of the current output cell\n",
              "var outputEl = gd.closest('.output');\n",
              "if (outputEl) {{\n",
              "    x.observe(outputEl, {childList: true});\n",
              "}}\n",
              "\n",
              "                        })                };                            </script>        </div>\n",
              "</body>\n",
              "</html>"
            ]
          },
          "metadata": {},
          "output_type": "display_data"
        }
      ],
      "source": [
        "graph = go.Figure()\n",
        "graph.update_layout(\n",
        "    title=\"Algoritmos de Casamento de Padrão\",\n",
        "    xaxis_title=\"Quantidade de Caracteres\",\n",
        "    yaxis_title=\"Tempo(ns)\",\n",
        "    font=dict(\n",
        "        family=\"Courier New, monospace\",\n",
        "        size=18,\n",
        "        color=\"RebeccaPurple\"\n",
        "    ),\n",
        "  width=1400, \n",
        "  height=800\n",
        ")\n",
        "\n",
        "for i in range(6):\n",
        "  graph.add_trace(go.Scatter(x=labels, y=means[i],mode='lines',name=columns[i]))\n",
        "\n",
        "graph.show()"
      ]
    },
    {
      "cell_type": "code",
      "execution_count": 277,
      "metadata": {
        "colab": {
          "base_uri": "https://localhost:8080/",
          "height": 817
        },
        "id": "dRb7c_pM0JbM",
        "outputId": "e0b93833-2846-4bd8-96a2-1a1efdfab8c8"
      },
      "outputs": [
        {
          "data": {
            "text/html": [
              "<html>\n",
              "<head><meta charset=\"utf-8\" /></head>\n",
              "<body>\n",
              "    <div>            <script src=\"https://cdnjs.cloudflare.com/ajax/libs/mathjax/2.7.5/MathJax.js?config=TeX-AMS-MML_SVG\"></script><script type=\"text/javascript\">if (window.MathJax) {MathJax.Hub.Config({SVG: {font: \"STIX-Web\"}});}</script>                <script type=\"text/javascript\">window.PlotlyConfig = {MathJaxConfig: 'local'};</script>\n",
              "        <script src=\"https://cdn.plot.ly/plotly-2.8.3.min.js\"></script>                <div id=\"96136cc1-9f11-4187-af99-6e9dada0aab8\" class=\"plotly-graph-div\" style=\"height:800px; width:1400px;\"></div>            <script type=\"text/javascript\">                                    window.PLOTLYENV=window.PLOTLYENV || {};                                    if (document.getElementById(\"96136cc1-9f11-4187-af99-6e9dada0aab8\")) {                    Plotly.newPlot(                        \"96136cc1-9f11-4187-af99-6e9dada0aab8\",                        [{\"cells\":{\"fill\":{\"color\":[[\"white\",\"lightgrey\",\"white\",\"lightgrey\",\"white\",\"lightgrey\",\"white\",\"lightgrey\",\"white\",\"lightgrey\",\"white\",\"lightgrey\",\"white\",\"lightgrey\",\"white\",\"lightgrey\",\"white\",\"lightgrey\",\"white\",\"lightgrey\",\"white\",\"lightgrey\",\"white\",\"lightgrey\",\"white\",\"lightgrey\",\"white\",\"lightgrey\",\"white\",\"lightgrey\"]]},\"font\":{\"color\":\"darkslategray\",\"size\":12},\"line\":{\"color\":\"darkslategray\"},\"values\":[[\"Brute Force\",\"BMH\",\"BMHS\",\"S.A Exactly\",\"S.A Approx K=1\",\"S.A Approx K=2\"],[8887.0,3303.0,1349.0,11485.0,4099.0,9693.0],[17777.0,3558.0,2305.0,15750.8,7777.0,12782.0],[26143.0,5005.0,3199.0,20741.0,13497.0,20130.0],[39306.0,4489.0,4075.8,25169.0,16112.0,22728.0],[97557.0,10637.0,10182.0,56299.0,40002.0,57286.0]]},\"header\":{\"fill\":{\"color\":\"grey\"},\"font\":{\"color\":\"white\",\"size\":12},\"line\":{\"color\":\"darkslategray\"},\"values\":[\"<b>Algoritmos</b>\",\"<b>T500</b>\",\"<b>T1000</b>\",\"<b>T1500</b>\",\"<b>T2000</b>\",\"<b>T5000</b>\"]},\"type\":\"table\"}],                        {\"template\":{\"data\":{\"bar\":[{\"error_x\":{\"color\":\"#2a3f5f\"},\"error_y\":{\"color\":\"#2a3f5f\"},\"marker\":{\"line\":{\"color\":\"#E5ECF6\",\"width\":0.5},\"pattern\":{\"fillmode\":\"overlay\",\"size\":10,\"solidity\":0.2}},\"type\":\"bar\"}],\"barpolar\":[{\"marker\":{\"line\":{\"color\":\"#E5ECF6\",\"width\":0.5},\"pattern\":{\"fillmode\":\"overlay\",\"size\":10,\"solidity\":0.2}},\"type\":\"barpolar\"}],\"carpet\":[{\"aaxis\":{\"endlinecolor\":\"#2a3f5f\",\"gridcolor\":\"white\",\"linecolor\":\"white\",\"minorgridcolor\":\"white\",\"startlinecolor\":\"#2a3f5f\"},\"baxis\":{\"endlinecolor\":\"#2a3f5f\",\"gridcolor\":\"white\",\"linecolor\":\"white\",\"minorgridcolor\":\"white\",\"startlinecolor\":\"#2a3f5f\"},\"type\":\"carpet\"}],\"choropleth\":[{\"colorbar\":{\"outlinewidth\":0,\"ticks\":\"\"},\"type\":\"choropleth\"}],\"contour\":[{\"colorbar\":{\"outlinewidth\":0,\"ticks\":\"\"},\"colorscale\":[[0.0,\"#0d0887\"],[0.1111111111111111,\"#46039f\"],[0.2222222222222222,\"#7201a8\"],[0.3333333333333333,\"#9c179e\"],[0.4444444444444444,\"#bd3786\"],[0.5555555555555556,\"#d8576b\"],[0.6666666666666666,\"#ed7953\"],[0.7777777777777778,\"#fb9f3a\"],[0.8888888888888888,\"#fdca26\"],[1.0,\"#f0f921\"]],\"type\":\"contour\"}],\"contourcarpet\":[{\"colorbar\":{\"outlinewidth\":0,\"ticks\":\"\"},\"type\":\"contourcarpet\"}],\"heatmap\":[{\"colorbar\":{\"outlinewidth\":0,\"ticks\":\"\"},\"colorscale\":[[0.0,\"#0d0887\"],[0.1111111111111111,\"#46039f\"],[0.2222222222222222,\"#7201a8\"],[0.3333333333333333,\"#9c179e\"],[0.4444444444444444,\"#bd3786\"],[0.5555555555555556,\"#d8576b\"],[0.6666666666666666,\"#ed7953\"],[0.7777777777777778,\"#fb9f3a\"],[0.8888888888888888,\"#fdca26\"],[1.0,\"#f0f921\"]],\"type\":\"heatmap\"}],\"heatmapgl\":[{\"colorbar\":{\"outlinewidth\":0,\"ticks\":\"\"},\"colorscale\":[[0.0,\"#0d0887\"],[0.1111111111111111,\"#46039f\"],[0.2222222222222222,\"#7201a8\"],[0.3333333333333333,\"#9c179e\"],[0.4444444444444444,\"#bd3786\"],[0.5555555555555556,\"#d8576b\"],[0.6666666666666666,\"#ed7953\"],[0.7777777777777778,\"#fb9f3a\"],[0.8888888888888888,\"#fdca26\"],[1.0,\"#f0f921\"]],\"type\":\"heatmapgl\"}],\"histogram\":[{\"marker\":{\"pattern\":{\"fillmode\":\"overlay\",\"size\":10,\"solidity\":0.2}},\"type\":\"histogram\"}],\"histogram2d\":[{\"colorbar\":{\"outlinewidth\":0,\"ticks\":\"\"},\"colorscale\":[[0.0,\"#0d0887\"],[0.1111111111111111,\"#46039f\"],[0.2222222222222222,\"#7201a8\"],[0.3333333333333333,\"#9c179e\"],[0.4444444444444444,\"#bd3786\"],[0.5555555555555556,\"#d8576b\"],[0.6666666666666666,\"#ed7953\"],[0.7777777777777778,\"#fb9f3a\"],[0.8888888888888888,\"#fdca26\"],[1.0,\"#f0f921\"]],\"type\":\"histogram2d\"}],\"histogram2dcontour\":[{\"colorbar\":{\"outlinewidth\":0,\"ticks\":\"\"},\"colorscale\":[[0.0,\"#0d0887\"],[0.1111111111111111,\"#46039f\"],[0.2222222222222222,\"#7201a8\"],[0.3333333333333333,\"#9c179e\"],[0.4444444444444444,\"#bd3786\"],[0.5555555555555556,\"#d8576b\"],[0.6666666666666666,\"#ed7953\"],[0.7777777777777778,\"#fb9f3a\"],[0.8888888888888888,\"#fdca26\"],[1.0,\"#f0f921\"]],\"type\":\"histogram2dcontour\"}],\"mesh3d\":[{\"colorbar\":{\"outlinewidth\":0,\"ticks\":\"\"},\"type\":\"mesh3d\"}],\"parcoords\":[{\"line\":{\"colorbar\":{\"outlinewidth\":0,\"ticks\":\"\"}},\"type\":\"parcoords\"}],\"pie\":[{\"automargin\":true,\"type\":\"pie\"}],\"scatter\":[{\"marker\":{\"colorbar\":{\"outlinewidth\":0,\"ticks\":\"\"}},\"type\":\"scatter\"}],\"scatter3d\":[{\"line\":{\"colorbar\":{\"outlinewidth\":0,\"ticks\":\"\"}},\"marker\":{\"colorbar\":{\"outlinewidth\":0,\"ticks\":\"\"}},\"type\":\"scatter3d\"}],\"scattercarpet\":[{\"marker\":{\"colorbar\":{\"outlinewidth\":0,\"ticks\":\"\"}},\"type\":\"scattercarpet\"}],\"scattergeo\":[{\"marker\":{\"colorbar\":{\"outlinewidth\":0,\"ticks\":\"\"}},\"type\":\"scattergeo\"}],\"scattergl\":[{\"marker\":{\"colorbar\":{\"outlinewidth\":0,\"ticks\":\"\"}},\"type\":\"scattergl\"}],\"scattermapbox\":[{\"marker\":{\"colorbar\":{\"outlinewidth\":0,\"ticks\":\"\"}},\"type\":\"scattermapbox\"}],\"scatterpolar\":[{\"marker\":{\"colorbar\":{\"outlinewidth\":0,\"ticks\":\"\"}},\"type\":\"scatterpolar\"}],\"scatterpolargl\":[{\"marker\":{\"colorbar\":{\"outlinewidth\":0,\"ticks\":\"\"}},\"type\":\"scatterpolargl\"}],\"scatterternary\":[{\"marker\":{\"colorbar\":{\"outlinewidth\":0,\"ticks\":\"\"}},\"type\":\"scatterternary\"}],\"surface\":[{\"colorbar\":{\"outlinewidth\":0,\"ticks\":\"\"},\"colorscale\":[[0.0,\"#0d0887\"],[0.1111111111111111,\"#46039f\"],[0.2222222222222222,\"#7201a8\"],[0.3333333333333333,\"#9c179e\"],[0.4444444444444444,\"#bd3786\"],[0.5555555555555556,\"#d8576b\"],[0.6666666666666666,\"#ed7953\"],[0.7777777777777778,\"#fb9f3a\"],[0.8888888888888888,\"#fdca26\"],[1.0,\"#f0f921\"]],\"type\":\"surface\"}],\"table\":[{\"cells\":{\"fill\":{\"color\":\"#EBF0F8\"},\"line\":{\"color\":\"white\"}},\"header\":{\"fill\":{\"color\":\"#C8D4E3\"},\"line\":{\"color\":\"white\"}},\"type\":\"table\"}]},\"layout\":{\"annotationdefaults\":{\"arrowcolor\":\"#2a3f5f\",\"arrowhead\":0,\"arrowwidth\":1},\"autotypenumbers\":\"strict\",\"coloraxis\":{\"colorbar\":{\"outlinewidth\":0,\"ticks\":\"\"}},\"colorscale\":{\"diverging\":[[0,\"#8e0152\"],[0.1,\"#c51b7d\"],[0.2,\"#de77ae\"],[0.3,\"#f1b6da\"],[0.4,\"#fde0ef\"],[0.5,\"#f7f7f7\"],[0.6,\"#e6f5d0\"],[0.7,\"#b8e186\"],[0.8,\"#7fbc41\"],[0.9,\"#4d9221\"],[1,\"#276419\"]],\"sequential\":[[0.0,\"#0d0887\"],[0.1111111111111111,\"#46039f\"],[0.2222222222222222,\"#7201a8\"],[0.3333333333333333,\"#9c179e\"],[0.4444444444444444,\"#bd3786\"],[0.5555555555555556,\"#d8576b\"],[0.6666666666666666,\"#ed7953\"],[0.7777777777777778,\"#fb9f3a\"],[0.8888888888888888,\"#fdca26\"],[1.0,\"#f0f921\"]],\"sequentialminus\":[[0.0,\"#0d0887\"],[0.1111111111111111,\"#46039f\"],[0.2222222222222222,\"#7201a8\"],[0.3333333333333333,\"#9c179e\"],[0.4444444444444444,\"#bd3786\"],[0.5555555555555556,\"#d8576b\"],[0.6666666666666666,\"#ed7953\"],[0.7777777777777778,\"#fb9f3a\"],[0.8888888888888888,\"#fdca26\"],[1.0,\"#f0f921\"]]},\"colorway\":[\"#636efa\",\"#EF553B\",\"#00cc96\",\"#ab63fa\",\"#FFA15A\",\"#19d3f3\",\"#FF6692\",\"#B6E880\",\"#FF97FF\",\"#FECB52\"],\"font\":{\"color\":\"#2a3f5f\"},\"geo\":{\"bgcolor\":\"white\",\"lakecolor\":\"white\",\"landcolor\":\"#E5ECF6\",\"showlakes\":true,\"showland\":true,\"subunitcolor\":\"white\"},\"hoverlabel\":{\"align\":\"left\"},\"hovermode\":\"closest\",\"mapbox\":{\"style\":\"light\"},\"paper_bgcolor\":\"white\",\"plot_bgcolor\":\"#E5ECF6\",\"polar\":{\"angularaxis\":{\"gridcolor\":\"white\",\"linecolor\":\"white\",\"ticks\":\"\"},\"bgcolor\":\"#E5ECF6\",\"radialaxis\":{\"gridcolor\":\"white\",\"linecolor\":\"white\",\"ticks\":\"\"}},\"scene\":{\"xaxis\":{\"backgroundcolor\":\"#E5ECF6\",\"gridcolor\":\"white\",\"gridwidth\":2,\"linecolor\":\"white\",\"showbackground\":true,\"ticks\":\"\",\"zerolinecolor\":\"white\"},\"yaxis\":{\"backgroundcolor\":\"#E5ECF6\",\"gridcolor\":\"white\",\"gridwidth\":2,\"linecolor\":\"white\",\"showbackground\":true,\"ticks\":\"\",\"zerolinecolor\":\"white\"},\"zaxis\":{\"backgroundcolor\":\"#E5ECF6\",\"gridcolor\":\"white\",\"gridwidth\":2,\"linecolor\":\"white\",\"showbackground\":true,\"ticks\":\"\",\"zerolinecolor\":\"white\"}},\"shapedefaults\":{\"line\":{\"color\":\"#2a3f5f\"}},\"ternary\":{\"aaxis\":{\"gridcolor\":\"white\",\"linecolor\":\"white\",\"ticks\":\"\"},\"baxis\":{\"gridcolor\":\"white\",\"linecolor\":\"white\",\"ticks\":\"\"},\"bgcolor\":\"#E5ECF6\",\"caxis\":{\"gridcolor\":\"white\",\"linecolor\":\"white\",\"ticks\":\"\"}},\"title\":{\"x\":0.05},\"xaxis\":{\"automargin\":true,\"gridcolor\":\"white\",\"linecolor\":\"white\",\"ticks\":\"\",\"title\":{\"standoff\":15},\"zerolinecolor\":\"white\",\"zerolinewidth\":2},\"yaxis\":{\"automargin\":true,\"gridcolor\":\"white\",\"linecolor\":\"white\",\"ticks\":\"\",\"title\":{\"standoff\":15},\"zerolinecolor\":\"white\",\"zerolinewidth\":2}}},\"width\":1400,\"height\":800},                        {\"responsive\": true}                    ).then(function(){\n",
              "                            \n",
              "var gd = document.getElementById('96136cc1-9f11-4187-af99-6e9dada0aab8');\n",
              "var x = new MutationObserver(function (mutations, observer) {{\n",
              "        var display = window.getComputedStyle(gd).display;\n",
              "        if (!display || display === 'none') {{\n",
              "            console.log([gd, 'removed!']);\n",
              "            Plotly.purge(gd);\n",
              "            observer.disconnect();\n",
              "        }}\n",
              "}});\n",
              "\n",
              "// Listen for the removal of the full notebook cells\n",
              "var notebookContainer = gd.closest('#notebook-container');\n",
              "if (notebookContainer) {{\n",
              "    x.observe(notebookContainer, {childList: true});\n",
              "}}\n",
              "\n",
              "// Listen for the clearing of the current output cell\n",
              "var outputEl = gd.closest('.output');\n",
              "if (outputEl) {{\n",
              "    x.observe(outputEl, {childList: true});\n",
              "}}\n",
              "\n",
              "                        })                };                            </script>        </div>\n",
              "</body>\n",
              "</html>"
            ]
          },
          "metadata": {},
          "output_type": "display_data"
        }
      ],
      "source": [
        "labels = ['<b>Algoritmos</b>','<b>T500</b>','<b>T1000</b>','<b>T1500</b>','<b>T2000</b>','<b>T5000</b>']\n",
        "means_transpose = list(np.transpose(means))\n",
        "means_transpose.insert(0, columns)\n",
        "\n",
        "headerColor = 'grey'\n",
        "rowEvenColor = 'lightgrey'\n",
        "rowOddColor = 'white'\n",
        "\n",
        "table = go.Figure(data=[go.Table(header=dict(values=labels,\n",
        "                                             line_color='darkslategray',\n",
        "                                             fill_color=headerColor,\n",
        "                                             font=dict(color='white', size=12)),\n",
        "                 cells=dict(values=means_transpose,\n",
        "                            line_color='darkslategray',\n",
        "                            fill_color = [[rowOddColor,rowEvenColor,rowOddColor, rowEvenColor,rowOddColor,rowEvenColor]*5],\n",
        "                            font=dict(color='darkslategray', size=12)))])\n",
        "\n",
        "table.update_layout(\n",
        "  width=1400, \n",
        "  height=800\n",
        ")\n",
        "\n",
        "\n",
        "table.show()"
      ]
    },
    {
      "cell_type": "code",
      "execution_count": 278,
      "metadata": {
        "colab": {
          "base_uri": "https://localhost:8080/",
          "height": 542
        },
        "id": "KgRZw7xIhwGL",
        "outputId": "07db90a8-1a37-4c54-d29b-ddf9e1a202c2"
      },
      "outputs": [
        {
          "data": {
            "text/html": [
              "<html>\n",
              "<head><meta charset=\"utf-8\" /></head>\n",
              "<body>\n",
              "    <div>            <script src=\"https://cdnjs.cloudflare.com/ajax/libs/mathjax/2.7.5/MathJax.js?config=TeX-AMS-MML_SVG\"></script><script type=\"text/javascript\">if (window.MathJax) {MathJax.Hub.Config({SVG: {font: \"STIX-Web\"}});}</script>                <script type=\"text/javascript\">window.PlotlyConfig = {MathJaxConfig: 'local'};</script>\n",
              "        <script src=\"https://cdn.plot.ly/plotly-2.8.3.min.js\"></script>                <div id=\"d4f9457c-f060-4c98-b24b-a1af1578aee9\" class=\"plotly-graph-div\" style=\"height:525px; width:100%;\"></div>            <script type=\"text/javascript\">                                    window.PLOTLYENV=window.PLOTLYENV || {};                                    if (document.getElementById(\"d4f9457c-f060-4c98-b24b-a1af1578aee9\")) {                    Plotly.newPlot(                        \"d4f9457c-f060-4c98-b24b-a1af1578aee9\",                        [{\"name\":\"Brute Force\",\"x\":[\"<b>T500</b>\",\"<b>T1000</b>\",\"<b>T1500</b>\",\"<b>T2000</b>\",\"<b>T5000</b>\"],\"y\":[8887,17777.0,26143,39306.0,97557],\"type\":\"bar\"},{\"name\":\"BMH\",\"x\":[\"<b>T500</b>\",\"<b>T1000</b>\",\"<b>T1500</b>\",\"<b>T2000</b>\",\"<b>T5000</b>\"],\"y\":[3303,3558.0,5005,4489.0,10637],\"type\":\"bar\"},{\"name\":\"BMHS\",\"x\":[\"<b>T500</b>\",\"<b>T1000</b>\",\"<b>T1500</b>\",\"<b>T2000</b>\",\"<b>T5000</b>\"],\"y\":[1349,2305.0,3199,4075.8,10182],\"type\":\"bar\"},{\"name\":\"S.A Exactly\",\"x\":[\"<b>T500</b>\",\"<b>T1000</b>\",\"<b>T1500</b>\",\"<b>T2000</b>\",\"<b>T5000</b>\"],\"y\":[11485,15750.8,20741,25169.0,56299],\"type\":\"bar\"},{\"name\":\"S.A Approx K=1\",\"x\":[\"<b>T500</b>\",\"<b>T1000</b>\",\"<b>T1500</b>\",\"<b>T2000</b>\",\"<b>T5000</b>\"],\"y\":[4099,7777.0,13497,16112.0,40002],\"type\":\"bar\"},{\"name\":\"S.A Approx K=2\",\"x\":[\"<b>T500</b>\",\"<b>T1000</b>\",\"<b>T1500</b>\",\"<b>T2000</b>\",\"<b>T5000</b>\"],\"y\":[9693,12782.0,20130,22728.0,57286],\"type\":\"bar\"}],                        {\"template\":{\"data\":{\"bar\":[{\"error_x\":{\"color\":\"#2a3f5f\"},\"error_y\":{\"color\":\"#2a3f5f\"},\"marker\":{\"line\":{\"color\":\"#E5ECF6\",\"width\":0.5},\"pattern\":{\"fillmode\":\"overlay\",\"size\":10,\"solidity\":0.2}},\"type\":\"bar\"}],\"barpolar\":[{\"marker\":{\"line\":{\"color\":\"#E5ECF6\",\"width\":0.5},\"pattern\":{\"fillmode\":\"overlay\",\"size\":10,\"solidity\":0.2}},\"type\":\"barpolar\"}],\"carpet\":[{\"aaxis\":{\"endlinecolor\":\"#2a3f5f\",\"gridcolor\":\"white\",\"linecolor\":\"white\",\"minorgridcolor\":\"white\",\"startlinecolor\":\"#2a3f5f\"},\"baxis\":{\"endlinecolor\":\"#2a3f5f\",\"gridcolor\":\"white\",\"linecolor\":\"white\",\"minorgridcolor\":\"white\",\"startlinecolor\":\"#2a3f5f\"},\"type\":\"carpet\"}],\"choropleth\":[{\"colorbar\":{\"outlinewidth\":0,\"ticks\":\"\"},\"type\":\"choropleth\"}],\"contour\":[{\"colorbar\":{\"outlinewidth\":0,\"ticks\":\"\"},\"colorscale\":[[0.0,\"#0d0887\"],[0.1111111111111111,\"#46039f\"],[0.2222222222222222,\"#7201a8\"],[0.3333333333333333,\"#9c179e\"],[0.4444444444444444,\"#bd3786\"],[0.5555555555555556,\"#d8576b\"],[0.6666666666666666,\"#ed7953\"],[0.7777777777777778,\"#fb9f3a\"],[0.8888888888888888,\"#fdca26\"],[1.0,\"#f0f921\"]],\"type\":\"contour\"}],\"contourcarpet\":[{\"colorbar\":{\"outlinewidth\":0,\"ticks\":\"\"},\"type\":\"contourcarpet\"}],\"heatmap\":[{\"colorbar\":{\"outlinewidth\":0,\"ticks\":\"\"},\"colorscale\":[[0.0,\"#0d0887\"],[0.1111111111111111,\"#46039f\"],[0.2222222222222222,\"#7201a8\"],[0.3333333333333333,\"#9c179e\"],[0.4444444444444444,\"#bd3786\"],[0.5555555555555556,\"#d8576b\"],[0.6666666666666666,\"#ed7953\"],[0.7777777777777778,\"#fb9f3a\"],[0.8888888888888888,\"#fdca26\"],[1.0,\"#f0f921\"]],\"type\":\"heatmap\"}],\"heatmapgl\":[{\"colorbar\":{\"outlinewidth\":0,\"ticks\":\"\"},\"colorscale\":[[0.0,\"#0d0887\"],[0.1111111111111111,\"#46039f\"],[0.2222222222222222,\"#7201a8\"],[0.3333333333333333,\"#9c179e\"],[0.4444444444444444,\"#bd3786\"],[0.5555555555555556,\"#d8576b\"],[0.6666666666666666,\"#ed7953\"],[0.7777777777777778,\"#fb9f3a\"],[0.8888888888888888,\"#fdca26\"],[1.0,\"#f0f921\"]],\"type\":\"heatmapgl\"}],\"histogram\":[{\"marker\":{\"pattern\":{\"fillmode\":\"overlay\",\"size\":10,\"solidity\":0.2}},\"type\":\"histogram\"}],\"histogram2d\":[{\"colorbar\":{\"outlinewidth\":0,\"ticks\":\"\"},\"colorscale\":[[0.0,\"#0d0887\"],[0.1111111111111111,\"#46039f\"],[0.2222222222222222,\"#7201a8\"],[0.3333333333333333,\"#9c179e\"],[0.4444444444444444,\"#bd3786\"],[0.5555555555555556,\"#d8576b\"],[0.6666666666666666,\"#ed7953\"],[0.7777777777777778,\"#fb9f3a\"],[0.8888888888888888,\"#fdca26\"],[1.0,\"#f0f921\"]],\"type\":\"histogram2d\"}],\"histogram2dcontour\":[{\"colorbar\":{\"outlinewidth\":0,\"ticks\":\"\"},\"colorscale\":[[0.0,\"#0d0887\"],[0.1111111111111111,\"#46039f\"],[0.2222222222222222,\"#7201a8\"],[0.3333333333333333,\"#9c179e\"],[0.4444444444444444,\"#bd3786\"],[0.5555555555555556,\"#d8576b\"],[0.6666666666666666,\"#ed7953\"],[0.7777777777777778,\"#fb9f3a\"],[0.8888888888888888,\"#fdca26\"],[1.0,\"#f0f921\"]],\"type\":\"histogram2dcontour\"}],\"mesh3d\":[{\"colorbar\":{\"outlinewidth\":0,\"ticks\":\"\"},\"type\":\"mesh3d\"}],\"parcoords\":[{\"line\":{\"colorbar\":{\"outlinewidth\":0,\"ticks\":\"\"}},\"type\":\"parcoords\"}],\"pie\":[{\"automargin\":true,\"type\":\"pie\"}],\"scatter\":[{\"marker\":{\"colorbar\":{\"outlinewidth\":0,\"ticks\":\"\"}},\"type\":\"scatter\"}],\"scatter3d\":[{\"line\":{\"colorbar\":{\"outlinewidth\":0,\"ticks\":\"\"}},\"marker\":{\"colorbar\":{\"outlinewidth\":0,\"ticks\":\"\"}},\"type\":\"scatter3d\"}],\"scattercarpet\":[{\"marker\":{\"colorbar\":{\"outlinewidth\":0,\"ticks\":\"\"}},\"type\":\"scattercarpet\"}],\"scattergeo\":[{\"marker\":{\"colorbar\":{\"outlinewidth\":0,\"ticks\":\"\"}},\"type\":\"scattergeo\"}],\"scattergl\":[{\"marker\":{\"colorbar\":{\"outlinewidth\":0,\"ticks\":\"\"}},\"type\":\"scattergl\"}],\"scattermapbox\":[{\"marker\":{\"colorbar\":{\"outlinewidth\":0,\"ticks\":\"\"}},\"type\":\"scattermapbox\"}],\"scatterpolar\":[{\"marker\":{\"colorbar\":{\"outlinewidth\":0,\"ticks\":\"\"}},\"type\":\"scatterpolar\"}],\"scatterpolargl\":[{\"marker\":{\"colorbar\":{\"outlinewidth\":0,\"ticks\":\"\"}},\"type\":\"scatterpolargl\"}],\"scatterternary\":[{\"marker\":{\"colorbar\":{\"outlinewidth\":0,\"ticks\":\"\"}},\"type\":\"scatterternary\"}],\"surface\":[{\"colorbar\":{\"outlinewidth\":0,\"ticks\":\"\"},\"colorscale\":[[0.0,\"#0d0887\"],[0.1111111111111111,\"#46039f\"],[0.2222222222222222,\"#7201a8\"],[0.3333333333333333,\"#9c179e\"],[0.4444444444444444,\"#bd3786\"],[0.5555555555555556,\"#d8576b\"],[0.6666666666666666,\"#ed7953\"],[0.7777777777777778,\"#fb9f3a\"],[0.8888888888888888,\"#fdca26\"],[1.0,\"#f0f921\"]],\"type\":\"surface\"}],\"table\":[{\"cells\":{\"fill\":{\"color\":\"#EBF0F8\"},\"line\":{\"color\":\"white\"}},\"header\":{\"fill\":{\"color\":\"#C8D4E3\"},\"line\":{\"color\":\"white\"}},\"type\":\"table\"}]},\"layout\":{\"annotationdefaults\":{\"arrowcolor\":\"#2a3f5f\",\"arrowhead\":0,\"arrowwidth\":1},\"autotypenumbers\":\"strict\",\"coloraxis\":{\"colorbar\":{\"outlinewidth\":0,\"ticks\":\"\"}},\"colorscale\":{\"diverging\":[[0,\"#8e0152\"],[0.1,\"#c51b7d\"],[0.2,\"#de77ae\"],[0.3,\"#f1b6da\"],[0.4,\"#fde0ef\"],[0.5,\"#f7f7f7\"],[0.6,\"#e6f5d0\"],[0.7,\"#b8e186\"],[0.8,\"#7fbc41\"],[0.9,\"#4d9221\"],[1,\"#276419\"]],\"sequential\":[[0.0,\"#0d0887\"],[0.1111111111111111,\"#46039f\"],[0.2222222222222222,\"#7201a8\"],[0.3333333333333333,\"#9c179e\"],[0.4444444444444444,\"#bd3786\"],[0.5555555555555556,\"#d8576b\"],[0.6666666666666666,\"#ed7953\"],[0.7777777777777778,\"#fb9f3a\"],[0.8888888888888888,\"#fdca26\"],[1.0,\"#f0f921\"]],\"sequentialminus\":[[0.0,\"#0d0887\"],[0.1111111111111111,\"#46039f\"],[0.2222222222222222,\"#7201a8\"],[0.3333333333333333,\"#9c179e\"],[0.4444444444444444,\"#bd3786\"],[0.5555555555555556,\"#d8576b\"],[0.6666666666666666,\"#ed7953\"],[0.7777777777777778,\"#fb9f3a\"],[0.8888888888888888,\"#fdca26\"],[1.0,\"#f0f921\"]]},\"colorway\":[\"#636efa\",\"#EF553B\",\"#00cc96\",\"#ab63fa\",\"#FFA15A\",\"#19d3f3\",\"#FF6692\",\"#B6E880\",\"#FF97FF\",\"#FECB52\"],\"font\":{\"color\":\"#2a3f5f\"},\"geo\":{\"bgcolor\":\"white\",\"lakecolor\":\"white\",\"landcolor\":\"#E5ECF6\",\"showlakes\":true,\"showland\":true,\"subunitcolor\":\"white\"},\"hoverlabel\":{\"align\":\"left\"},\"hovermode\":\"closest\",\"mapbox\":{\"style\":\"light\"},\"paper_bgcolor\":\"white\",\"plot_bgcolor\":\"#E5ECF6\",\"polar\":{\"angularaxis\":{\"gridcolor\":\"white\",\"linecolor\":\"white\",\"ticks\":\"\"},\"bgcolor\":\"#E5ECF6\",\"radialaxis\":{\"gridcolor\":\"white\",\"linecolor\":\"white\",\"ticks\":\"\"}},\"scene\":{\"xaxis\":{\"backgroundcolor\":\"#E5ECF6\",\"gridcolor\":\"white\",\"gridwidth\":2,\"linecolor\":\"white\",\"showbackground\":true,\"ticks\":\"\",\"zerolinecolor\":\"white\"},\"yaxis\":{\"backgroundcolor\":\"#E5ECF6\",\"gridcolor\":\"white\",\"gridwidth\":2,\"linecolor\":\"white\",\"showbackground\":true,\"ticks\":\"\",\"zerolinecolor\":\"white\"},\"zaxis\":{\"backgroundcolor\":\"#E5ECF6\",\"gridcolor\":\"white\",\"gridwidth\":2,\"linecolor\":\"white\",\"showbackground\":true,\"ticks\":\"\",\"zerolinecolor\":\"white\"}},\"shapedefaults\":{\"line\":{\"color\":\"#2a3f5f\"}},\"ternary\":{\"aaxis\":{\"gridcolor\":\"white\",\"linecolor\":\"white\",\"ticks\":\"\"},\"baxis\":{\"gridcolor\":\"white\",\"linecolor\":\"white\",\"ticks\":\"\"},\"bgcolor\":\"#E5ECF6\",\"caxis\":{\"gridcolor\":\"white\",\"linecolor\":\"white\",\"ticks\":\"\"}},\"title\":{\"x\":0.05},\"xaxis\":{\"automargin\":true,\"gridcolor\":\"white\",\"linecolor\":\"white\",\"ticks\":\"\",\"title\":{\"standoff\":15},\"zerolinecolor\":\"white\",\"zerolinewidth\":2},\"yaxis\":{\"automargin\":true,\"gridcolor\":\"white\",\"linecolor\":\"white\",\"ticks\":\"\",\"title\":{\"standoff\":15},\"zerolinecolor\":\"white\",\"zerolinewidth\":2}}},\"font\":{\"family\":\"Courier New, monospace\",\"size\":18,\"color\":\"RebeccaPurple\"},\"barmode\":\"group\",\"title\":{\"text\":\"Algoritmos de Casamento de Padr\\u00e3o\"},\"xaxis\":{\"title\":{\"text\":\"Quantidade de Caracteres\"}},\"yaxis\":{\"title\":{\"text\":\"Tempo(ns)\"}}},                        {\"responsive\": true}                    ).then(function(){\n",
              "                            \n",
              "var gd = document.getElementById('d4f9457c-f060-4c98-b24b-a1af1578aee9');\n",
              "var x = new MutationObserver(function (mutations, observer) {{\n",
              "        var display = window.getComputedStyle(gd).display;\n",
              "        if (!display || display === 'none') {{\n",
              "            console.log([gd, 'removed!']);\n",
              "            Plotly.purge(gd);\n",
              "            observer.disconnect();\n",
              "        }}\n",
              "}});\n",
              "\n",
              "// Listen for the removal of the full notebook cells\n",
              "var notebookContainer = gd.closest('#notebook-container');\n",
              "if (notebookContainer) {{\n",
              "    x.observe(notebookContainer, {childList: true});\n",
              "}}\n",
              "\n",
              "// Listen for the clearing of the current output cell\n",
              "var outputEl = gd.closest('.output');\n",
              "if (outputEl) {{\n",
              "    x.observe(outputEl, {childList: true});\n",
              "}}\n",
              "\n",
              "                        })                };                            </script>        </div>\n",
              "</body>\n",
              "</html>"
            ]
          },
          "metadata": {},
          "output_type": "display_data"
        }
      ],
      "source": [
        "labels = ['<b>T500</b>','<b>T1000</b>','<b>T1500</b>','<b>T2000</b>','<b>T5000</b>']\n",
        "\n",
        "bar = go.Figure(data=[\n",
        "    go.Bar(name='Brute Force', x=labels, y=means[0]),\n",
        "    go.Bar(name='BMH', x=labels, y=means[1]),\n",
        "    go.Bar(name='BMHS', x=labels, y=means[2]),\n",
        "    go.Bar(name='S.A Exactly', x=labels, y=means[3]),\n",
        "    go.Bar(name='S.A Approx K=1', x=labels, y=means[4]),\n",
        "    go.Bar(name='S.A Approx K=2', x=labels, y=means[5]),\n",
        "])\n",
        "\n",
        "# Change the bar mode\n",
        "bar.update_layout(\n",
        "    barmode='group',\n",
        "    title=\"Algoritmos de Casamento de Padrão\",\n",
        "    xaxis_title=\"Quantidade de Caracteres\",\n",
        "    yaxis_title=\"Tempo(ns)\",\n",
        "    font=dict(\n",
        "        family=\"Courier New, monospace\",\n",
        "        size=18,\n",
        "        color=\"RebeccaPurple\"\n",
        "    )\n",
        ")\n",
        "\n",
        "bar.show()"
      ]
    }
  ],
  "metadata": {
    "colab": {
      "provenance": []
    },
    "kernelspec": {
      "display_name": "Python 3",
      "name": "python3"
    },
    "language_info": {
      "name": "python"
    }
  },
  "nbformat": 4,
  "nbformat_minor": 0
}
